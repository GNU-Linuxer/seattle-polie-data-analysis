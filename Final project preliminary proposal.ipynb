{
 "cells": [
  {
   "cell_type": "markdown",
   "id": "8605c437-3305-49a8-ab33-88e59eebe892",
   "metadata": {},
   "source": [
    "# Final Project Preliminary Proposal:"
   ]
  },
  {
   "cell_type": "markdown",
   "id": "21ec8bbf-9310-4ecf-9363-d1ca37f5cccc",
   "metadata": {},
   "source": [
    "# Compare the behavior of US Stock Market vs. Cryptocurrency Market"
   ]
  },
  {
   "cell_type": "markdown",
   "id": "d7ec217a-3d87-444e-a77e-9356ebe33a3a",
   "metadata": {},
   "source": [
    "## 1: Motivation\n",
    "\n",
    "In another data analysis programming class (pre-COVID), I overheard a project group doing cryptocurrency vs some kind of US stock index. While I had not seen the actual analysis (nor the report), this topic was suddenly brought to my mind when COVID-19 pandemic resulted in economic recessions that led to strange economic behaviors at several points throughout this pandemic. \n",
    "\n",
    "During the COVID-19 pandemic, cryptocurrency popularity as an investment tool has noticeably increased, which is evident from the sheer increase of Bitcoin's value. Also, I presume that the US stock market was also affected by COVID-19 pandemic because the demand of many goods has changed noticeably and people refrain spending their money on non-essential goods/services.\n",
    "\n",
    "Hence, I decide to \"replicate\" the data analysis project. By incorporating data from pre-COVID time, I want to compare how the behavior/trend of US stock Indices (DJIA and S&P 500) correlates with cryptocurrency value in US Dollar (Bitcoin and Ethereum). For instance, what would be the implication of a rising US stock market on cryptocurrency."
   ]
  },
  {
   "cell_type": "markdown",
   "id": "226240df-a9c8-4e37-ba0c-f7e9b3752dc3",
   "metadata": {},
   "source": [
    "## 2: Background and/or Related Work:\n",
    "\n",
    "Analyzing the correlation between the US Stock market and cryptocurrency market is indeed a heated topic, as cryptocurrency (as an investment tool) is becoming more popular to the point that it poses challenges to the US Stock market's popularity. Since Bitcoin is the most influential cryptocurrency, most of the useful articles (that are worth including in this section) use Bitcoin instead of another cryptocurrency when comparing cryptocurrency to the US Stock market. However, articles provide conflicting viewpoints regarding such correlation. [This Forbes article](https://www.forbes.com/sites/investor/2020/05/13/bitcoin-and-stocks-correlation-reveal-a-secret/?sh=8a4a9ae12c2c) suggests a positive correlation between S&P 500 index and Bitcoin, and \"Bitcoin is going to be a valuable leading indicator for stocks\". In contrast, [a Market Watch article](https://www.marketwatch.com/story/heres-what-bitcoins-relationship-with-the-stock-market-and-gold-looks-like-over-the-past-90-days-2019-08-21) views that Bitcoin behaves similar to gold market rather than US Stock market (using an ETF Trust that follows S&P 500 index value), and Bitcoin behaves inversely to the US Stock market, which indicate that Bitcoin is \"potentially being used as a safe-haven asset during global uncertainty in traditional markets\".\n",
    "\n",
    "During the COVID-19 pandemic and its resultant economic recession, I observed how more and more people began to invest in cryptocurrency, even they're just experimenting this new investment vehicle. There's [one journal article](https://link.springer.com/article/10.1007/s40822-020-00154-1) that analyzes the relationship between COVID-19 and cryptocurrency value, it shows that cryptocurrencies value inversely correlates with COVID-19 cases and deaths during in early period of COVID-19 pandemic, but such correlation had become positive (direct correlation) at later pandemic stages. Bitcoin exhibits the strongest correlation value (both positively and negatively), while Ethereum and Ripple coins display a weaker correlation. The article's author hypothesized that people might invest in cryptocurrency in order to hedge economic uncertainties caused by COVID-19."
   ]
  },
  {
   "cell_type": "markdown",
   "id": "128d2ea4-73d6-493d-80f3-ef6a39697f34",
   "metadata": {},
   "source": [
    "## 3: Research question\n",
    "\n",
    "1. How does the US Stock market trend correlates with the cryptocurrency market?\n",
    "2. How does the advent of COVID-19 Pandemic affects such correlation?\n",
    "\n",
    "### 3-1: Hypothesis\n",
    "\n",
    "1. The US Stock market directly correlates with the cryptocurrency market.\n",
    "2. COVID-19 Pandemic will preserve the direction of correlation (direct or inverse correlation), but cryptocurrency will have a higher % change in its value than the US stock market.\n"
   ]
  },
  {
   "cell_type": "markdown",
   "id": "88478633-652f-4388-b3bf-d4313b511af3",
   "metadata": {},
   "source": [
    "## 4: Selected Data\n",
    "\n",
    "Import Python module to read and process csv files"
   ]
  },
  {
   "cell_type": "code",
   "execution_count": 1,
   "id": "2e88528e-feed-4a26-990d-5ec7267c4336",
   "metadata": {},
   "outputs": [],
   "source": [
    "import pandas as pd\n",
    "import numpy as np\n",
    "from datetime import datetime\n",
    "from dateutil import parser"
   ]
  },
  {
   "cell_type": "markdown",
   "id": "3ed33734-31e9-4198-b821-8a2a9b7cb1bc",
   "metadata": {},
   "source": [
    "User can manually define start date and end date here (using YYYY-MM-DD format).\n",
    "\n",
    "Please make sure that `start_date` and `end_date` dates passes 2020-01-01 (I use this date in COVID-19's effect on market's analysis)."
   ]
  },
  {
   "cell_type": "code",
   "execution_count": 2,
   "id": "88d15ff9-4f36-4a51-a37d-97f8786c428c",
   "metadata": {},
   "outputs": [],
   "source": [
    "start_date = datetime.strptime('2016-03-10', '%Y-%m-%d')\n",
    "end_date = datetime.strptime('2021-04-23', '%Y-%m-%d')"
   ]
  },
  {
   "cell_type": "markdown",
   "id": "87ece38d-3a0f-45b8-8fa0-f74a2775d004",
   "metadata": {},
   "source": [
    "### 4-1: US Stock Index\n",
    "\n",
    "**Daily Value of Dow Jones Industrial Average index (DJIA)**\n",
    "\n",
    "This dataset consists every DJIA value at market closing time in every trading date (from 2011-05-16 to 2021-05-14)\n",
    "\n",
    "Background: The DJIA is a stock market index that tracks 30 well-established and most-influential companies trading in the US. This index value is representative to the stock movement of US large companies, which noticeably represent the US overall economy. ([Source](https://www.investopedia.com/terms/d/djia.asp))\n",
    "\n",
    "[Dataset source](https://fred.stlouisfed.org/series/DJIA)\n",
    "\n",
    "File name and location: `data/DJIA.csv`\n",
    "\n",
    "License: permission required to redistribute this dataset (see Appendix A-1 for steps to prepare data from dataset source)\n",
    "\n",
    "**Daily Value of Standard & Poors 500 index (S&P 500)**\n",
    "\n",
    "This dataset consists every S&P 500 value at market closing time in every trading date (from 2011-05-16 to 2021-05-14)\n",
    "\n",
    "Background: The S&P 500 is a stock market index that tracks 500 mostly-traded stock in the US. This index value is representative to the US stock movement as a whole. ([Source](https://www.investopedia.com/terms/s/sp500.asp))\n",
    "\n",
    "[Dataset source](https://fred.stlouisfed.org/series/SP500)\n",
    "\n",
    "File name and location: `data/SP500.csv`\n",
    "\n",
    "License: permission required to redistribute this dataset (see Appendix A-1 for steps to prepare data from dataset source)"
   ]
  },
  {
   "cell_type": "markdown",
   "id": "93fc9689-6ac5-483c-92dd-4f1a6b422e29",
   "metadata": {},
   "source": [
    "Import daily DJIA and S&P 500 dataset from .csv files in `data` folder"
   ]
  },
  {
   "cell_type": "code",
   "execution_count": 3,
   "id": "ae110947-c6ef-4b0f-9965-7f603a2bb16a",
   "metadata": {},
   "outputs": [
    {
     "name": "stdout",
     "output_type": "stream",
     "text": [
      "         DATE      DJIA\n",
      "0  2011-05-16  12548.37\n",
      "1  2011-05-17  12479.58\n",
      "2  2011-05-18  12560.18\n",
      "         DATE    SP500\n",
      "0  2011-05-16  1329.47\n",
      "1  2011-05-17  1328.98\n",
      "2  2011-05-18  1340.68\n"
     ]
    }
   ],
   "source": [
    "DJIA_complete = pd.read_csv ('data/DJIA.csv')\n",
    "print(DJIA_complete.head(3))\n",
    "\n",
    "SP500_complete = pd.read_csv ('data/SP500.csv')\n",
    "print(SP500_complete.head(3))"
   ]
  },
  {
   "cell_type": "markdown",
   "id": "e87fa7b2-846b-4e62-a470-499d8c5f3feb",
   "metadata": {},
   "source": [
    "### 4-2: Cryptocurrency\n",
    "\n",
    "**Daily Price for Bitcoin in US Dollar**\n",
    "\n",
    "Bitcoin is the most popular and influential cryptocurrency (by market capitalization) ([Source](https://www.investopedia.com/tech/most-important-cryptocurrencies-other-than-bitcoin/)), and its value has increased substantially at one point (from $6000 to $6000**0**). People can earn ten times of the invested money for 1 year, and they could not earn at such a high rate by investing in the US stock market. Hence Bitcoin attracts plenty of investors that would also drive its price up.\n",
    "\n",
    "[Dataset source](https://www.kaggle.com/kaushiksuresh147/top-10-cryptocurrencies-historical-dataset?select=Bitcoin+Historical+Data.csv) (The final project uses data dated 2010-07-18 to 2021-04-25)\n",
    "\n",
    "File name and location: `data/Bitcoin.csv`\n",
    "\n",
    "License: CC0: Public Domain\n",
    "\n",
    "**Daily Price for Ethereum in US Dollar**\n",
    "\n",
    "Ethereum is the second-most popular and influential cryptocurrency ([Source](https://www.investopedia.com/tech/most-important-cryptocurrencies-other-than-bitcoin/)). By adding the daily price of Ethereum in my data analysis, I hope to make my report more comprehensive.  \n",
    "\n",
    "[Dataset source](https://www.kaggle.com/kaushiksuresh147/top-10-cryptocurrencies-historical-dataset?select=Ethereum+Historical+Data.csv) (The final project uses data dated 2016-03-10 to 2021-04-25)\n",
    "\n",
    "File name and location: `data/Ethereum.csv`\n",
    "\n",
    "License: CC0: Public Domain\n",
    "\n",
    "For both dataset, it contains\n",
    "* Price of a cryptocurrency in the day (**Note: only this feature**2016-03-10 is used for this data analysis project)\n",
    "* Opening price of a cryptocurrency in the day\n",
    "* Highest price of a cryptocurrency in the day\n",
    "* Lowest price of a cryptocurrency in the day\n",
    "* Volume of a cryptocurrency in the day\n",
    "* Change of a cryptocurrency in the day"
   ]
  },
  {
   "cell_type": "code",
   "execution_count": 4,
   "id": "2a4aa0c2-278f-4a42-b16e-09b8985e21c2",
   "metadata": {},
   "outputs": [
    {
     "name": "stdout",
     "output_type": "stream",
     "text": [
      "           Date      Price       Open       High        Low   Volume  Change\n",
      "0  Apr 25, 2021  49,561.90  50,088.20  50,438.80  49,226.50   66.26K  -1.05%\n",
      "1  Apr 24, 2021  50,088.90  51,140.80  51,183.00  48,775.20   82.25K  -2.06%\n",
      "2  Apr 23, 2021  51,143.60  51,707.10  52,099.90  47,659.40  214.46K  -1.13%\n",
      "           Date      Price       Open       High        Low   Volume  Change\n",
      "0  Apr 25, 2021  49,561.90  50,088.20  50,438.80  49,226.50   66.26K  -1.05%\n",
      "1  Apr 24, 2021  50,088.90  51,140.80  51,183.00  48,775.20   82.25K  -2.06%\n",
      "2  Apr 23, 2021  51,143.60  51,707.10  52,099.90  47,659.40  214.46K  -1.13%\n"
     ]
    }
   ],
   "source": [
    "BTC_complete = pd.read_csv ('data/Bitcoin.csv')\n",
    "print(BTC_complete.head(3))\n",
    "\n",
    "ETH_complete = pd.read_csv ('data/Ethereum.csv')\n",
    "print(BTC_complete.head(3))"
   ]
  },
  {
   "cell_type": "markdown",
   "id": "2296e110-edc0-46b8-bc9f-518fde43ccdd",
   "metadata": {},
   "source": [
    "## 4: Methodology\n",
    "\n",
    "### 4-1: Pre-analysis data cleaning"
   ]
  },
  {
   "cell_type": "markdown",
   "id": "fcdfaaea-60b0-49f8-a9ec-23e495cc0df2",
   "metadata": {},
   "source": [
    "Drop non-trading days that are present in DJIA and S&P 500 datasets (such as July 4 US National Day)"
   ]
  },
  {
   "cell_type": "code",
   "execution_count": 5,
   "id": "04297301-4c92-421f-8a32-554ce4a553dc",
   "metadata": {},
   "outputs": [
    {
     "name": "stdout",
     "output_type": "stream",
     "text": [
      "         DATE      DJIA\n",
      "0  2011-05-16  12548.37\n",
      "1  2011-05-17  12479.58\n",
      "2  2011-05-18  12560.18\n",
      "         DATE    SP500\n",
      "0  2011-05-16  1329.47\n",
      "1  2011-05-17  1328.98\n",
      "2  2011-05-18  1340.68\n"
     ]
    }
   ],
   "source": [
    "DJIA_trimmed = DJIA_complete[DJIA_complete.DJIA != '.']\n",
    "print(DJIA_trimmed.head(3))\n",
    "\n",
    "SP500_trimmed = SP500_complete[SP500_complete.SP500 != '.']\n",
    "print(SP500_trimmed.head(3))"
   ]
  },
  {
   "cell_type": "markdown",
   "id": "ba786820-f35a-4c23-94b0-df064a13613b",
   "metadata": {},
   "source": [
    "Convert date string (from all four datasets) to Python datetime object so we can compare equality of dates across different datasets.\n",
    "\n",
    "Also convert numeric value from string type to float type."
   ]
  },
  {
   "cell_type": "code",
   "execution_count": 6,
   "id": "468534cf-975c-4c77-95e4-58b3a70995a0",
   "metadata": {},
   "outputs": [
    {
     "name": "stdout",
     "output_type": "stream",
     "text": [
      "  Date_Parsed      DJIA\n",
      "0  2011-05-16  12548.37\n",
      "1  2011-05-17  12479.58\n",
      "2  2011-05-18  12560.18\n",
      "  Date_Parsed    SP500\n",
      "0  2011-05-16  1329.47\n",
      "1  2011-05-17  1328.98\n",
      "2  2011-05-18  1340.68\n",
      "           Date      Price       Open       High        Low   Volume  Change  \\\n",
      "0  Apr 25, 2021  49,561.90  50,088.20  50,438.80  49,226.50   66.26K  -1.05%   \n",
      "1  Apr 24, 2021  50,088.90  51,140.80  51,183.00  48,775.20   82.25K  -2.06%   \n",
      "2  Apr 23, 2021  51,143.60  51,707.10  52,099.90  47,659.40  214.46K  -1.13%   \n",
      "\n",
      "  Date_Parsed  \n",
      "0  2021-04-25  \n",
      "1  2021-04-24  \n",
      "2  2021-04-23  \n",
      "           Date     Price      Open      High       Low   Vol. Change %  \\\n",
      "0  Apr 25, 2021  2,266.24  2,217.23  2,287.87  2,182.37  1.37M    2.27%   \n",
      "1  Apr 24, 2021  2,215.93  2,367.35  2,367.46  2,159.60  1.61M   -6.39%   \n",
      "2  Apr 23, 2021  2,367.31  2,398.95  2,440.21  2,119.26  3.46M   -1.41%   \n",
      "\n",
      "  Date_Parsed  \n",
      "0  2021-04-25  \n",
      "1  2021-04-24  \n",
      "2  2021-04-23  \n"
     ]
    }
   ],
   "source": [
    "DJIA_parsed = DJIA_trimmed.copy()\n",
    "DJIA_parsed['Date_Parsed'] = pd.to_datetime(DJIA_parsed['DATE'], format='%Y-%m-%d')\n",
    "DJIA_parsed = DJIA_parsed[['Date_Parsed', 'DJIA']]\n",
    "print(DJIA_parsed.head(3))\n",
    "\n",
    "SP500_parsed = SP500_trimmed.copy()\n",
    "SP500_parsed['Date_Parsed'] = pd.to_datetime(SP500_parsed['DATE'], format='%Y-%m-%d')\n",
    "SP500_parsed = SP500_parsed[['Date_Parsed', 'SP500']]\n",
    "print(SP500_parsed.head(3))\n",
    "\n",
    "# Parsing BTC and ETH data's date would break if computer's locale is not en_US\n",
    "import locale\n",
    "locale.setlocale(locale.LC_ALL,'en_US.UTF-8')\n",
    "\n",
    "#Apr 25, 2021\n",
    "BTC_parsed = BTC_complete.copy()\n",
    "BTC_parsed['Date_Parsed'] = pd.to_datetime(BTC_complete['Date'], format='%b %d, %Y')\n",
    "print(BTC_parsed.head(3))\n",
    "\n",
    "ETH_parsed = ETH_complete.copy()\n",
    "ETH_parsed['Date_Parsed'] = pd.to_datetime(ETH_complete['Date'], format='%b %d, %Y')\n",
    "print(ETH_parsed.head(3))"
   ]
  },
  {
   "cell_type": "markdown",
   "id": "355ec4fc-30a3-4322-af3f-cd59c9455b86",
   "metadata": {},
   "source": [
    "Select features/rows of data that we only want, to make our data analysis cleaner"
   ]
  },
  {
   "cell_type": "code",
   "execution_count": 7,
   "id": "7f2db0bf-ffb6-4fdb-8240-eda6a7e97e13",
   "metadata": {},
   "outputs": [
    {
     "name": "stdout",
     "output_type": "stream",
     "text": [
      "        Date DJIA_Value\n",
      "0 2011-05-16   12548.37\n",
      "1 2011-05-17   12479.58\n",
      "2 2011-05-18   12560.18\n",
      "        Date SP500_Value\n",
      "0 2011-05-16     1329.47\n",
      "1 2011-05-17     1328.98\n",
      "2 2011-05-18     1340.68\n",
      "        Date  BTC_Price\n",
      "0 2021-04-25  49,561.90\n",
      "1 2021-04-24  50,088.90\n",
      "2 2021-04-23  51,143.60\n",
      "        Date ETH_Price\n",
      "0 2021-04-25  2,266.24\n",
      "1 2021-04-24  2,215.93\n",
      "2 2021-04-23  2,367.31\n"
     ]
    }
   ],
   "source": [
    "DJIA_parsed = DJIA_parsed[['Date_Parsed', 'DJIA']]\n",
    "DJIA_parsed.rename(columns={\"Date_Parsed\": \"Date\", \"DJIA\": \"DJIA_Value\"}, errors=\"raise\", inplace=True)\n",
    "print(DJIA_parsed.head(3))\n",
    "SP500_parsed = SP500_parsed[['Date_Parsed', 'SP500']]\n",
    "SP500_parsed.rename(columns={\"Date_Parsed\": \"Date\", \"SP500\": \"SP500_Value\"}, errors=\"raise\", inplace=True)\n",
    "print(SP500_parsed.head(3))\n",
    "\n",
    "BTC_parsed = BTC_parsed[['Date_Parsed', 'Price']]\n",
    "BTC_parsed.rename(columns={\"Date_Parsed\": \"Date\", \"Price\": \"BTC_Price\"}, errors=\"raise\", inplace=True)\n",
    "print(BTC_parsed.head(3))\n",
    "ETH_parsed = ETH_parsed[['Date_Parsed', 'Price']]\n",
    "ETH_parsed.rename(columns={\"Date_Parsed\": \"Date\", \"Price\": \"ETH_Price\"}, errors=\"raise\", inplace=True)\n",
    "print(ETH_parsed.head(3))"
   ]
  },
  {
   "cell_type": "markdown",
   "id": "6893fabc-cdf2-44d5-b9d9-03d6cc549ef8",
   "metadata": {},
   "source": [
    "### 4-2: Date selection on 4 datasets\n",
    "\n",
    "The US Stock market closes on weekends and selected holidays, while the cryptocurrency market is open every day. In cryptocurrencies datasets, I will exclude all dates that is not present in the DJIA and S&P 500 dataset (two dataset have exact date as shown in the code block below), so I can better compare the stock market and cryptocurrency market. See Appendix A-2 for more information."
   ]
  },
  {
   "cell_type": "markdown",
   "id": "1edc68d4-9d56-4358-b102-772cfff5c686",
   "metadata": {},
   "source": [
    "DJIA and S&P 500 dataset covers a greater date range than Bitcoin and Ethereum dataset, so I can use DJIA dates as foundation to select defined date range, along with `start_date` and `end_date` that are user-defined in **Section 4**"
   ]
  },
  {
   "cell_type": "code",
   "execution_count": 8,
   "id": "12145fbc-1e28-498a-bd1f-7272dd76eb7d",
   "metadata": {},
   "outputs": [
    {
     "name": "stdout",
     "output_type": "stream",
     "text": [
      "           Date DJIA_Value\n",
      "1258 2016-03-10   16995.13\n",
      "1259 2016-03-11   17213.31\n",
      "1260 2016-03-14   17229.13\n",
      "1261 2016-03-15   17251.53\n",
      "1262 2016-03-16   17325.76\n",
      "...         ...        ...\n",
      "2590 2021-04-19   34077.63\n",
      "2591 2021-04-20   33821.30\n",
      "2592 2021-04-21   34137.31\n",
      "2593 2021-04-22   33815.90\n",
      "2594 2021-04-23   34043.49\n",
      "\n",
      "[1290 rows x 2 columns]\n",
      "           Date DJIA_Value SP500_Value  BTC_Price ETH_Price\n",
      "0    2016-03-10   16995.13     1989.57      415.8     11.75\n",
      "1    2016-03-11   17213.31     2022.19      419.1     11.95\n",
      "2    2016-03-14   17229.13     2019.64      414.3      12.5\n",
      "3    2016-03-15   17251.53     2015.93      415.1     13.06\n",
      "4    2016-03-16   17325.76     2027.22      415.9     12.88\n",
      "...         ...        ...         ...        ...       ...\n",
      "1285 2021-04-19   34077.63     4163.26  55,646.10  2,160.63\n",
      "1286 2021-04-20   33821.30     4134.94  56,483.20  2,332.14\n",
      "1287 2021-04-21   34137.31     4173.42  53,820.20  2,360.81\n",
      "1288 2021-04-22   33815.90     4134.98  51,729.50  2,401.10\n",
      "1289 2021-04-23   34043.49     4180.17  51,143.60  2,367.31\n",
      "\n",
      "[1290 rows x 5 columns]\n"
     ]
    }
   ],
   "source": [
    "# First: extract all DJIA dates that falls within start_date and end_date\n",
    "all_data = DJIA_parsed[(DJIA_parsed['Date'] >= start_date) & (DJIA_parsed['Date'] <= end_date)]\n",
    "print(all_data)\n",
    "\n",
    "# Second: join rest of 3 datasets by date, drop rows if that dataset's date is not present in date (in DJIA dataset)\n",
    "all_data = all_data.merge(SP500_parsed, on='Date', how='inner')\n",
    "all_data = all_data.merge(BTC_parsed, on='Date', how='inner')\n",
    "all_data = all_data.merge(ETH_parsed, on='Date', how='inner')\n",
    "print(all_data)"
   ]
  },
  {
   "cell_type": "markdown",
   "id": "13a424a8-fd16-4826-ad9c-d8db2dbe4c94",
   "metadata": {},
   "source": [
    "**4-3: Time Series graph on four datasets**\n",
    "\n",
    "By producing five time series graphs on two stock indices and two cryptocurrencies (their price), my report will help readers to visually understand four dataset's general distribution and trend. Four graphs will depict the actual value of the dataset with respect to time, and one graph will describe the % change (compared to previous day) of all four dataset with respect to time. I choose not to combine the time series graph of actual value with respect to time due to the significant difference of range (the y-value) of four datasets. For instance, the daily DJIA value has 5 digits and daily S&P 500 value has only 4 digits."
   ]
  },
  {
   "cell_type": "code",
   "execution_count": 12,
   "id": "23726085-7b58-4648-9b5a-a90d3605c4f1",
   "metadata": {},
   "outputs": [],
   "source": [
    "#ggplot2 in R is a very intuitive and easy to understand graph programming syntax (and there're just a lot of articles on ggplot due to its popularity)\n",
    "#One noticeable limitation for plotnine it that it could not draw pie chart (it lacks coord_polar implementation)\n",
    "\n",
    "#!conda install plotnine # if plotnine is not already installed\n",
    "#!pip install plotnine # if plotnine is not already installed\n",
    "from plotnine import * #plotnine contains ggplot function\n",
    "# from plotnine.data import mpg #import ggplot's sample data (such as mpg), useful for debugging"
   ]
  },
  {
   "cell_type": "code",
   "execution_count": 24,
   "id": "2d2c5974-d180-4dbd-ae82-5145c90b6429",
   "metadata": {},
   "outputs": [
    {
     "name": "stdout",
     "output_type": "stream",
     "text": [
      "<class 'str'>\n"
     ]
    }
   ],
   "source": [
    "print(type(all_data['DJIA_Value'][1]))"
   ]
  },
  {
   "cell_type": "code",
   "execution_count": 23,
   "id": "367acb4a-8e18-4d5d-b726-1f8fa0f72ee1",
   "metadata": {},
   "outputs": [
    {
     "ename": "TypeError",
     "evalue": "Discrete value supplied to continuous scale",
     "output_type": "error",
     "traceback": [
      "\u001b[0;31m---------------------------------------------------------------------------\u001b[0m",
      "\u001b[0;31mTypeError\u001b[0m                                 Traceback (most recent call last)",
      "\u001b[0;32m/opt/conda/lib/python3.8/site-packages/IPython/core/formatters.py\u001b[0m in \u001b[0;36m__call__\u001b[0;34m(self, obj)\u001b[0m\n\u001b[1;32m    700\u001b[0m                 \u001b[0mtype_pprinters\u001b[0m\u001b[0;34m=\u001b[0m\u001b[0mself\u001b[0m\u001b[0;34m.\u001b[0m\u001b[0mtype_printers\u001b[0m\u001b[0;34m,\u001b[0m\u001b[0;34m\u001b[0m\u001b[0;34m\u001b[0m\u001b[0m\n\u001b[1;32m    701\u001b[0m                 deferred_pprinters=self.deferred_printers)\n\u001b[0;32m--> 702\u001b[0;31m             \u001b[0mprinter\u001b[0m\u001b[0;34m.\u001b[0m\u001b[0mpretty\u001b[0m\u001b[0;34m(\u001b[0m\u001b[0mobj\u001b[0m\u001b[0;34m)\u001b[0m\u001b[0;34m\u001b[0m\u001b[0;34m\u001b[0m\u001b[0m\n\u001b[0m\u001b[1;32m    703\u001b[0m             \u001b[0mprinter\u001b[0m\u001b[0;34m.\u001b[0m\u001b[0mflush\u001b[0m\u001b[0;34m(\u001b[0m\u001b[0;34m)\u001b[0m\u001b[0;34m\u001b[0m\u001b[0;34m\u001b[0m\u001b[0m\n\u001b[1;32m    704\u001b[0m             \u001b[0;32mreturn\u001b[0m \u001b[0mstream\u001b[0m\u001b[0;34m.\u001b[0m\u001b[0mgetvalue\u001b[0m\u001b[0;34m(\u001b[0m\u001b[0;34m)\u001b[0m\u001b[0;34m\u001b[0m\u001b[0;34m\u001b[0m\u001b[0m\n",
      "\u001b[0;32m/opt/conda/lib/python3.8/site-packages/IPython/lib/pretty.py\u001b[0m in \u001b[0;36mpretty\u001b[0;34m(self, obj)\u001b[0m\n\u001b[1;32m    392\u001b[0m                         \u001b[0;32mif\u001b[0m \u001b[0mcls\u001b[0m \u001b[0;32mis\u001b[0m \u001b[0;32mnot\u001b[0m \u001b[0mobject\u001b[0m\u001b[0;31m \u001b[0m\u001b[0;31m\\\u001b[0m\u001b[0;34m\u001b[0m\u001b[0;34m\u001b[0m\u001b[0m\n\u001b[1;32m    393\u001b[0m                                 \u001b[0;32mand\u001b[0m \u001b[0mcallable\u001b[0m\u001b[0;34m(\u001b[0m\u001b[0mcls\u001b[0m\u001b[0;34m.\u001b[0m\u001b[0m__dict__\u001b[0m\u001b[0;34m.\u001b[0m\u001b[0mget\u001b[0m\u001b[0;34m(\u001b[0m\u001b[0;34m'__repr__'\u001b[0m\u001b[0;34m)\u001b[0m\u001b[0;34m)\u001b[0m\u001b[0;34m:\u001b[0m\u001b[0;34m\u001b[0m\u001b[0;34m\u001b[0m\u001b[0m\n\u001b[0;32m--> 394\u001b[0;31m                             \u001b[0;32mreturn\u001b[0m \u001b[0m_repr_pprint\u001b[0m\u001b[0;34m(\u001b[0m\u001b[0mobj\u001b[0m\u001b[0;34m,\u001b[0m \u001b[0mself\u001b[0m\u001b[0;34m,\u001b[0m \u001b[0mcycle\u001b[0m\u001b[0;34m)\u001b[0m\u001b[0;34m\u001b[0m\u001b[0;34m\u001b[0m\u001b[0m\n\u001b[0m\u001b[1;32m    395\u001b[0m \u001b[0;34m\u001b[0m\u001b[0m\n\u001b[1;32m    396\u001b[0m             \u001b[0;32mreturn\u001b[0m \u001b[0m_default_pprint\u001b[0m\u001b[0;34m(\u001b[0m\u001b[0mobj\u001b[0m\u001b[0;34m,\u001b[0m \u001b[0mself\u001b[0m\u001b[0;34m,\u001b[0m \u001b[0mcycle\u001b[0m\u001b[0;34m)\u001b[0m\u001b[0;34m\u001b[0m\u001b[0;34m\u001b[0m\u001b[0m\n",
      "\u001b[0;32m/opt/conda/lib/python3.8/site-packages/IPython/lib/pretty.py\u001b[0m in \u001b[0;36m_repr_pprint\u001b[0;34m(obj, p, cycle)\u001b[0m\n\u001b[1;32m    698\u001b[0m     \u001b[0;34m\"\"\"A pprint that just redirects to the normal repr function.\"\"\"\u001b[0m\u001b[0;34m\u001b[0m\u001b[0;34m\u001b[0m\u001b[0m\n\u001b[1;32m    699\u001b[0m     \u001b[0;31m# Find newlines and replace them with p.break_()\u001b[0m\u001b[0;34m\u001b[0m\u001b[0;34m\u001b[0m\u001b[0;34m\u001b[0m\u001b[0m\n\u001b[0;32m--> 700\u001b[0;31m     \u001b[0moutput\u001b[0m \u001b[0;34m=\u001b[0m \u001b[0mrepr\u001b[0m\u001b[0;34m(\u001b[0m\u001b[0mobj\u001b[0m\u001b[0;34m)\u001b[0m\u001b[0;34m\u001b[0m\u001b[0;34m\u001b[0m\u001b[0m\n\u001b[0m\u001b[1;32m    701\u001b[0m     \u001b[0mlines\u001b[0m \u001b[0;34m=\u001b[0m \u001b[0moutput\u001b[0m\u001b[0;34m.\u001b[0m\u001b[0msplitlines\u001b[0m\u001b[0;34m(\u001b[0m\u001b[0;34m)\u001b[0m\u001b[0;34m\u001b[0m\u001b[0;34m\u001b[0m\u001b[0m\n\u001b[1;32m    702\u001b[0m     \u001b[0;32mwith\u001b[0m \u001b[0mp\u001b[0m\u001b[0;34m.\u001b[0m\u001b[0mgroup\u001b[0m\u001b[0;34m(\u001b[0m\u001b[0;34m)\u001b[0m\u001b[0;34m:\u001b[0m\u001b[0;34m\u001b[0m\u001b[0;34m\u001b[0m\u001b[0m\n",
      "\u001b[0;32m/opt/conda/lib/python3.8/site-packages/plotnine/ggplot.py\u001b[0m in \u001b[0;36m__repr__\u001b[0;34m(self)\u001b[0m\n\u001b[1;32m     95\u001b[0m         \u001b[0mPrint\u001b[0m\u001b[0;34m/\u001b[0m\u001b[0mshow\u001b[0m \u001b[0mthe\u001b[0m \u001b[0mplot\u001b[0m\u001b[0;34m\u001b[0m\u001b[0;34m\u001b[0m\u001b[0m\n\u001b[1;32m     96\u001b[0m         \"\"\"\n\u001b[0;32m---> 97\u001b[0;31m         \u001b[0mself\u001b[0m\u001b[0;34m.\u001b[0m\u001b[0m__str__\u001b[0m\u001b[0;34m(\u001b[0m\u001b[0;34m)\u001b[0m\u001b[0;34m\u001b[0m\u001b[0;34m\u001b[0m\u001b[0m\n\u001b[0m\u001b[1;32m     98\u001b[0m         \u001b[0;32mreturn\u001b[0m \u001b[0;34m'<ggplot: (%d)>'\u001b[0m \u001b[0;34m%\u001b[0m \u001b[0mself\u001b[0m\u001b[0;34m.\u001b[0m\u001b[0m__hash__\u001b[0m\u001b[0;34m(\u001b[0m\u001b[0;34m)\u001b[0m\u001b[0;34m\u001b[0m\u001b[0;34m\u001b[0m\u001b[0m\n\u001b[1;32m     99\u001b[0m \u001b[0;34m\u001b[0m\u001b[0m\n",
      "\u001b[0;32m/opt/conda/lib/python3.8/site-packages/plotnine/ggplot.py\u001b[0m in \u001b[0;36m__str__\u001b[0;34m(self)\u001b[0m\n\u001b[1;32m     86\u001b[0m         \u001b[0mPrint\u001b[0m\u001b[0;34m/\u001b[0m\u001b[0mshow\u001b[0m \u001b[0mthe\u001b[0m \u001b[0mplot\u001b[0m\u001b[0;34m\u001b[0m\u001b[0;34m\u001b[0m\u001b[0m\n\u001b[1;32m     87\u001b[0m         \"\"\"\n\u001b[0;32m---> 88\u001b[0;31m         \u001b[0mself\u001b[0m\u001b[0;34m.\u001b[0m\u001b[0mdraw\u001b[0m\u001b[0;34m(\u001b[0m\u001b[0mshow\u001b[0m\u001b[0;34m=\u001b[0m\u001b[0;32mTrue\u001b[0m\u001b[0;34m)\u001b[0m\u001b[0;34m\u001b[0m\u001b[0;34m\u001b[0m\u001b[0m\n\u001b[0m\u001b[1;32m     89\u001b[0m \u001b[0;34m\u001b[0m\u001b[0m\n\u001b[1;32m     90\u001b[0m         \u001b[0;31m# Return and empty string so that print(p) is \"pretty\"\u001b[0m\u001b[0;34m\u001b[0m\u001b[0;34m\u001b[0m\u001b[0;34m\u001b[0m\u001b[0m\n",
      "\u001b[0;32m/opt/conda/lib/python3.8/site-packages/plotnine/ggplot.py\u001b[0m in \u001b[0;36mdraw\u001b[0;34m(self, return_ggplot, show)\u001b[0m\n\u001b[1;32m    203\u001b[0m         \u001b[0mself\u001b[0m \u001b[0;34m=\u001b[0m \u001b[0mdeepcopy\u001b[0m\u001b[0;34m(\u001b[0m\u001b[0mself\u001b[0m\u001b[0;34m)\u001b[0m\u001b[0;34m\u001b[0m\u001b[0;34m\u001b[0m\u001b[0m\n\u001b[1;32m    204\u001b[0m         \u001b[0;32mwith\u001b[0m \u001b[0mplot_context\u001b[0m\u001b[0;34m(\u001b[0m\u001b[0mself\u001b[0m\u001b[0;34m,\u001b[0m \u001b[0mshow\u001b[0m\u001b[0;34m=\u001b[0m\u001b[0mshow\u001b[0m\u001b[0;34m)\u001b[0m\u001b[0;34m:\u001b[0m\u001b[0;34m\u001b[0m\u001b[0;34m\u001b[0m\u001b[0m\n\u001b[0;32m--> 205\u001b[0;31m             \u001b[0mself\u001b[0m\u001b[0;34m.\u001b[0m\u001b[0m_build\u001b[0m\u001b[0;34m(\u001b[0m\u001b[0;34m)\u001b[0m\u001b[0;34m\u001b[0m\u001b[0;34m\u001b[0m\u001b[0m\n\u001b[0m\u001b[1;32m    206\u001b[0m \u001b[0;34m\u001b[0m\u001b[0m\n\u001b[1;32m    207\u001b[0m             \u001b[0;31m# setup\u001b[0m\u001b[0;34m\u001b[0m\u001b[0;34m\u001b[0m\u001b[0;34m\u001b[0m\u001b[0m\n",
      "\u001b[0;32m/opt/conda/lib/python3.8/site-packages/plotnine/ggplot.py\u001b[0m in \u001b[0;36m_build\u001b[0;34m(self)\u001b[0m\n\u001b[1;32m    294\u001b[0m         \u001b[0;31m# Map and train positions so that statistics have access\u001b[0m\u001b[0;34m\u001b[0m\u001b[0;34m\u001b[0m\u001b[0;34m\u001b[0m\u001b[0m\n\u001b[1;32m    295\u001b[0m         \u001b[0;31m# to ranges and all positions are numeric\u001b[0m\u001b[0;34m\u001b[0m\u001b[0;34m\u001b[0m\u001b[0;34m\u001b[0m\u001b[0m\n\u001b[0;32m--> 296\u001b[0;31m         \u001b[0mlayout\u001b[0m\u001b[0;34m.\u001b[0m\u001b[0mtrain_position\u001b[0m\u001b[0;34m(\u001b[0m\u001b[0mlayers\u001b[0m\u001b[0;34m,\u001b[0m \u001b[0mscales\u001b[0m\u001b[0;34m.\u001b[0m\u001b[0mx\u001b[0m\u001b[0;34m,\u001b[0m \u001b[0mscales\u001b[0m\u001b[0;34m.\u001b[0m\u001b[0my\u001b[0m\u001b[0;34m)\u001b[0m\u001b[0;34m\u001b[0m\u001b[0;34m\u001b[0m\u001b[0m\n\u001b[0m\u001b[1;32m    297\u001b[0m         \u001b[0mlayout\u001b[0m\u001b[0;34m.\u001b[0m\u001b[0mmap_position\u001b[0m\u001b[0;34m(\u001b[0m\u001b[0mlayers\u001b[0m\u001b[0;34m)\u001b[0m\u001b[0;34m\u001b[0m\u001b[0;34m\u001b[0m\u001b[0m\n\u001b[1;32m    298\u001b[0m \u001b[0;34m\u001b[0m\u001b[0m\n",
      "\u001b[0;32m/opt/conda/lib/python3.8/site-packages/plotnine/facets/layout.py\u001b[0m in \u001b[0;36mtrain_position\u001b[0;34m(self, layers, x_scale, y_scale)\u001b[0m\n\u001b[1;32m     86\u001b[0m             \u001b[0mself\u001b[0m\u001b[0;34m.\u001b[0m\u001b[0mpanel_scales_y\u001b[0m \u001b[0;34m=\u001b[0m \u001b[0mresult\u001b[0m\u001b[0;34m.\u001b[0m\u001b[0my\u001b[0m\u001b[0;34m\u001b[0m\u001b[0;34m\u001b[0m\u001b[0m\n\u001b[1;32m     87\u001b[0m \u001b[0;34m\u001b[0m\u001b[0m\n\u001b[0;32m---> 88\u001b[0;31m         \u001b[0mself\u001b[0m\u001b[0;34m.\u001b[0m\u001b[0mfacet\u001b[0m\u001b[0;34m.\u001b[0m\u001b[0mtrain_position_scales\u001b[0m\u001b[0;34m(\u001b[0m\u001b[0mself\u001b[0m\u001b[0;34m,\u001b[0m \u001b[0mlayers\u001b[0m\u001b[0;34m)\u001b[0m\u001b[0;34m\u001b[0m\u001b[0;34m\u001b[0m\u001b[0m\n\u001b[0m\u001b[1;32m     89\u001b[0m \u001b[0;34m\u001b[0m\u001b[0m\n\u001b[1;32m     90\u001b[0m     \u001b[0;32mdef\u001b[0m \u001b[0mmap_position\u001b[0m\u001b[0;34m(\u001b[0m\u001b[0mself\u001b[0m\u001b[0;34m,\u001b[0m \u001b[0mlayers\u001b[0m\u001b[0;34m)\u001b[0m\u001b[0;34m:\u001b[0m\u001b[0;34m\u001b[0m\u001b[0;34m\u001b[0m\u001b[0m\n",
      "\u001b[0;32m/opt/conda/lib/python3.8/site-packages/plotnine/facets/facet.py\u001b[0m in \u001b[0;36mtrain_position_scales\u001b[0;34m(self, layout, layers)\u001b[0m\n\u001b[1;32m    234\u001b[0m                 \u001b[0;31m# the scale index for each data point\u001b[0m\u001b[0;34m\u001b[0m\u001b[0;34m\u001b[0m\u001b[0;34m\u001b[0m\u001b[0m\n\u001b[1;32m    235\u001b[0m                 \u001b[0mSCALE_Y\u001b[0m \u001b[0;34m=\u001b[0m \u001b[0m_layout\u001b[0m\u001b[0;34m[\u001b[0m\u001b[0;34m'SCALE_Y'\u001b[0m\u001b[0;34m]\u001b[0m\u001b[0;34m.\u001b[0m\u001b[0miloc\u001b[0m\u001b[0;34m[\u001b[0m\u001b[0mmatch_id\u001b[0m\u001b[0;34m]\u001b[0m\u001b[0;34m.\u001b[0m\u001b[0mtolist\u001b[0m\u001b[0;34m(\u001b[0m\u001b[0;34m)\u001b[0m\u001b[0;34m\u001b[0m\u001b[0;34m\u001b[0m\u001b[0m\n\u001b[0;32m--> 236\u001b[0;31m                 \u001b[0mpanel_scales_y\u001b[0m\u001b[0;34m.\u001b[0m\u001b[0mtrain\u001b[0m\u001b[0;34m(\u001b[0m\u001b[0mdata\u001b[0m\u001b[0;34m,\u001b[0m \u001b[0my_vars\u001b[0m\u001b[0;34m,\u001b[0m \u001b[0mSCALE_Y\u001b[0m\u001b[0;34m)\u001b[0m\u001b[0;34m\u001b[0m\u001b[0;34m\u001b[0m\u001b[0m\n\u001b[0m\u001b[1;32m    237\u001b[0m \u001b[0;34m\u001b[0m\u001b[0m\n\u001b[1;32m    238\u001b[0m         \u001b[0;32mreturn\u001b[0m \u001b[0mself\u001b[0m\u001b[0;34m\u001b[0m\u001b[0;34m\u001b[0m\u001b[0m\n",
      "\u001b[0;32m/opt/conda/lib/python3.8/site-packages/plotnine/scales/scales.py\u001b[0m in \u001b[0;36mtrain\u001b[0;34m(self, data, vars, idx)\u001b[0m\n\u001b[1;32m    120\u001b[0m             \u001b[0;32mfor\u001b[0m \u001b[0mi\u001b[0m\u001b[0;34m,\u001b[0m \u001b[0msc\u001b[0m \u001b[0;32min\u001b[0m \u001b[0menumerate\u001b[0m\u001b[0;34m(\u001b[0m\u001b[0mself\u001b[0m\u001b[0;34m,\u001b[0m \u001b[0mstart\u001b[0m\u001b[0;34m=\u001b[0m\u001b[0;36m1\u001b[0m\u001b[0;34m)\u001b[0m\u001b[0;34m:\u001b[0m\u001b[0;34m\u001b[0m\u001b[0;34m\u001b[0m\u001b[0m\n\u001b[1;32m    121\u001b[0m                 \u001b[0mbool_idx\u001b[0m \u001b[0;34m=\u001b[0m \u001b[0;34m(\u001b[0m\u001b[0mi\u001b[0m \u001b[0;34m==\u001b[0m \u001b[0midx\u001b[0m\u001b[0;34m)\u001b[0m\u001b[0;34m\u001b[0m\u001b[0;34m\u001b[0m\u001b[0m\n\u001b[0;32m--> 122\u001b[0;31m                 \u001b[0msc\u001b[0m\u001b[0;34m.\u001b[0m\u001b[0mtrain\u001b[0m\u001b[0;34m(\u001b[0m\u001b[0mdata\u001b[0m\u001b[0;34m.\u001b[0m\u001b[0mloc\u001b[0m\u001b[0;34m[\u001b[0m\u001b[0mbool_idx\u001b[0m\u001b[0;34m,\u001b[0m \u001b[0mcol\u001b[0m\u001b[0;34m]\u001b[0m\u001b[0;34m)\u001b[0m\u001b[0;34m\u001b[0m\u001b[0;34m\u001b[0m\u001b[0m\n\u001b[0m\u001b[1;32m    123\u001b[0m \u001b[0;34m\u001b[0m\u001b[0m\n\u001b[1;32m    124\u001b[0m     \u001b[0;32mdef\u001b[0m \u001b[0mmap\u001b[0m\u001b[0;34m(\u001b[0m\u001b[0mself\u001b[0m\u001b[0;34m,\u001b[0m \u001b[0mdata\u001b[0m\u001b[0;34m,\u001b[0m \u001b[0mvars\u001b[0m\u001b[0;34m,\u001b[0m \u001b[0midx\u001b[0m\u001b[0;34m)\u001b[0m\u001b[0;34m:\u001b[0m\u001b[0;34m\u001b[0m\u001b[0;34m\u001b[0m\u001b[0m\n",
      "\u001b[0;32m/opt/conda/lib/python3.8/site-packages/plotnine/scales/scale.py\u001b[0m in \u001b[0;36mtrain\u001b[0;34m(self, x)\u001b[0m\n\u001b[1;32m    674\u001b[0m             \u001b[0;32mreturn\u001b[0m\u001b[0;34m\u001b[0m\u001b[0;34m\u001b[0m\u001b[0m\n\u001b[1;32m    675\u001b[0m \u001b[0;34m\u001b[0m\u001b[0m\n\u001b[0;32m--> 676\u001b[0;31m         \u001b[0mself\u001b[0m\u001b[0;34m.\u001b[0m\u001b[0mrange\u001b[0m\u001b[0;34m.\u001b[0m\u001b[0mtrain\u001b[0m\u001b[0;34m(\u001b[0m\u001b[0mx\u001b[0m\u001b[0;34m)\u001b[0m\u001b[0;34m\u001b[0m\u001b[0;34m\u001b[0m\u001b[0m\n\u001b[0m\u001b[1;32m    677\u001b[0m \u001b[0;34m\u001b[0m\u001b[0m\n\u001b[1;32m    678\u001b[0m     \u001b[0;32mdef\u001b[0m \u001b[0mtransform_df\u001b[0m\u001b[0;34m(\u001b[0m\u001b[0mself\u001b[0m\u001b[0;34m,\u001b[0m \u001b[0mdf\u001b[0m\u001b[0;34m)\u001b[0m\u001b[0;34m:\u001b[0m\u001b[0;34m\u001b[0m\u001b[0;34m\u001b[0m\u001b[0m\n",
      "\u001b[0;32m/opt/conda/lib/python3.8/site-packages/plotnine/scales/range.py\u001b[0m in \u001b[0;36mtrain\u001b[0;34m(self, x)\u001b[0m\n\u001b[1;32m     30\u001b[0m         \u001b[0mTrain\u001b[0m \u001b[0mcontinuous\u001b[0m \u001b[0mrange\u001b[0m\u001b[0;34m\u001b[0m\u001b[0;34m\u001b[0m\u001b[0m\n\u001b[1;32m     31\u001b[0m         \"\"\"\n\u001b[0;32m---> 32\u001b[0;31m         \u001b[0mself\u001b[0m\u001b[0;34m.\u001b[0m\u001b[0mrange\u001b[0m \u001b[0;34m=\u001b[0m \u001b[0mscale_continuous\u001b[0m\u001b[0;34m.\u001b[0m\u001b[0mtrain\u001b[0m\u001b[0;34m(\u001b[0m\u001b[0mx\u001b[0m\u001b[0;34m,\u001b[0m \u001b[0mself\u001b[0m\u001b[0;34m.\u001b[0m\u001b[0mrange\u001b[0m\u001b[0;34m)\u001b[0m\u001b[0;34m\u001b[0m\u001b[0;34m\u001b[0m\u001b[0m\n\u001b[0m\u001b[1;32m     33\u001b[0m \u001b[0;34m\u001b[0m\u001b[0m\n\u001b[1;32m     34\u001b[0m \u001b[0;34m\u001b[0m\u001b[0m\n",
      "\u001b[0;32m/opt/conda/lib/python3.8/site-packages/mizani/scale.py\u001b[0m in \u001b[0;36mtrain\u001b[0;34m(cls, new_data, old)\u001b[0m\n\u001b[1;32m     97\u001b[0m \u001b[0;34m\u001b[0m\u001b[0m\n\u001b[1;32m     98\u001b[0m         \u001b[0;32mif\u001b[0m \u001b[0mnew_data\u001b[0m\u001b[0;34m.\u001b[0m\u001b[0mdtype\u001b[0m\u001b[0;34m.\u001b[0m\u001b[0mkind\u001b[0m \u001b[0;32mnot\u001b[0m \u001b[0;32min\u001b[0m \u001b[0mCONTINUOUS_KINDS\u001b[0m\u001b[0;34m:\u001b[0m\u001b[0;34m\u001b[0m\u001b[0;34m\u001b[0m\u001b[0m\n\u001b[0;32m---> 99\u001b[0;31m             raise TypeError(\n\u001b[0m\u001b[1;32m    100\u001b[0m                 \"Discrete value supplied to continuous scale\")\n\u001b[1;32m    101\u001b[0m \u001b[0;34m\u001b[0m\u001b[0m\n",
      "\u001b[0;31mTypeError\u001b[0m: Discrete value supplied to continuous scale"
     ]
    }
   ],
   "source": [
    "(\n",
    "    ggplot(data = all_data)+\n",
    "    geom_line(aes(x = 'Date',\n",
    "                  y = 'DJIA_Value',\n",
    "                  group = 1),\n",
    "              size = 1.5,\n",
    "              color = '#c22d6d')+\n",
    "    scale_y_continuous(breaks = np.linspace(start=100000, stop=350000, num=5))+\n",
    "    xlab('Year')+\n",
    "    ylab('Frequency')+\n",
    "    theme_bw()\n",
    ")"
   ]
  },
  {
   "cell_type": "markdown",
   "id": "38db9eba-03aa-4a53-b792-73842f94240d",
   "metadata": {},
   "source": [
    "**Step 2:**\n",
    "\n",
    "To investigate whether US Stock indices values relates to cryptocurrency price, I will calculate the correlation on the % change of one US Stock index vs one cryptocurrency price, which will results a total of **four** correlation analysis:\n",
    "* DJIA vs Bitcoin\n",
    "* DJIA vs Etherum\n",
    "* S&P 500 vs Bitcoin\n",
    "* S&P 500 vs Etherum\n",
    "\n",
    "The result of correlation analysis will be presented in a table format.\n",
    "\n",
    "Note: I decide not to conduct correlation analysis on the actual value US stock indices and cryptocurrencies' values, as these numbers fluctuate in different magnitudes for the same market change. For instance, the numeric change (the ∆) of the DJIA index is generally larger than S&P 500.\n",
    "\n",
    "**Step 3:**\n",
    "\n",
    "Since the general correlation (if exists) may not be informative, I will calculate the number of days that two US Stock indices and two cryptocurrencies increase/decrease by 5-9%, 10-14%, 15-19%, and over 20%. Performing this analysis allows readers to compare the overall increase/decrease of US Stock market and cryptocurrency market, and interpret whether the tallied value between number of days (of two markets) can be viewed as similar. I will produce a bar chart where x-axis is the percentage increase/decrease and y-axis is the number of days with such x-value. In addition, each bar color denotes one dataset.\n",
    "\n",
    "**Step 4:**\n",
    "\n",
    "To answer research question \\#2, I will repeat the above data processing and graphs **separately** for data dated before 2020-1-1 and data dated on and after 2020-1-1, for the sake to compare how the advent of COVID-19 affects the correlation between US stock market and cryptocurrency market.\n"
   ]
  },
  {
   "cell_type": "markdown",
   "id": "eaa13952-c192-4b51-a12d-e3e02ab4c7a2",
   "metadata": {},
   "source": [
    "## 8: Discussion"
   ]
  },
  {
   "cell_type": "markdown",
   "id": "41e46a04-b568-406a-bd09-40bc21be86c8",
   "metadata": {},
   "source": [
    "### 8-2: Ethical consideration\n",
    "\n",
    "* My data analysis only uses two most popular US stock indices and cryptocurrencies, and I assume that my chosen dataset is representative of the US stock market and cryptocurrency market. However, some readers may disagree with my choice because they’re more familiar with other stock indices and cryptocurrencies.\n",
    "* Correlation does not indicate a causation, as the US stock market and cryptocurrency market are not interrelated. Hence I could not say that a rising US stock market is causing Bitcoin to increase/decrease its value.\n",
    "* Readers of the dataset may over-rely my analysis result as their investment advice.\n",
    "* Since the DJIA and S&P 500 dataset can't be published in the GitHub repository, reviewers need to manually prepare the dataset from source websites."
   ]
  },
  {
   "cell_type": "markdown",
   "id": "64b57776-a8d2-419a-b6d2-203ba8e1df51",
   "metadata": {},
   "source": [
    "### 8-3: Unknown and dependencies:\n",
    "\n",
    "* The US stock market is closed on Weekends and Holidays while cryptocurrency can be traded everyday 24/7. Hence I need to exclude Weekends and Holidays in the cryptocurrency market dataset, which may exclude some important trends happening in these excluded days.\n",
    "* Cryptocurrency market is more accessible than the US stock market; hence the cryptocurrency market may fluctuate more frequently than the US stock market, which would decrease the statistical analysis's accuracy.\n",
    "* Cryptocurrency can be traded to a currency other than the US Dollar, and the analysis result may differ if I use the daily price of a cryptocurrency in another currency (due to a latent variable of the other currency's behavior).\n",
    "* After running statistical analysis, the result may show little-to-no correlation between the US stock market and cryptocurrency market.\n",
    "* It may be necessary to separately analyze the relationship between US stock market and cryptocurrency before and after 2020-01-01, as the COVID-19 pandemic's resultant economic recession can noticeably alter the normal market behavior (pre-COVID).\n"
   ]
  },
  {
   "cell_type": "markdown",
   "id": "9ae48d96-74c6-466b-99d1-98a22b93b97c",
   "metadata": {},
   "source": [
    "## Appendix"
   ]
  },
  {
   "cell_type": "markdown",
   "id": "d00e1b28-adb3-4763-8c8b-bd4132a018fa",
   "metadata": {},
   "source": [
    "### A-1: Steps to fetch DJIA and S&P 500 dataset .csv files\n",
    "\n",
    "Visit [this DJIA dataset source](https://fred.stlouisfed.org/series/DJIA) and [this S&P 500 dataset source](https://fred.stlouisfed.org/series/SP500). \n",
    "\n",
    "In the upper right corner there's an orange *edit graph* button, on the left of this button, there's a date picker, choose the start date to a value as early as possible. \n",
    "\n",
    "Then there's a download button where you can download .csv files. Place these two .csv files in the `data/` folder so the Jupyter notebook can find them.\n",
    "\n",
    "File name and location are: `data/DJIA.csv` and `data/SP500.csv`"
   ]
  },
  {
   "cell_type": "markdown",
   "id": "77adeb2d-07e9-4ac1-bc9b-f7a6f7560119",
   "metadata": {},
   "source": [
    "### A-2: Reason about it's OK to exclude non-stock trading day in cryptocurrency\n",
    "\n",
    "Some readers might wonder that excluding stock holidays in cryptocurrency dataset will lead to inaccurate analysis, personally speaking, investors' speculations/decisions in stock holidays will be reflected as soon as US Stock trading resumes. For instance, the [sharp decrease](https://finance.yahoo.com/chart/BA#eyJpbnRlcnZhbCI6ImRheSIsInBlcmlvZGljaXR5IjoxLCJjYW5kbGVXaWR0aCI6NjUuMjA4MzMzMzMzMzMzMzMsImZsaXBwZWQiOmZhbHNlLCJ2b2x1bWVVbmRlcmxheSI6dHJ1ZSwiYWRqIjp0cnVlLCJjcm9zc2hhaXIiOnRydWUsImNoYXJ0VHlwZSI6ImxpbmUiLCJleHRlbmRlZCI6ZmFsc2UsIm1hcmtldFNlc3Npb25zIjp7fSwiYWdncmVnYXRpb25UeXBlIjoib2hsYyIsImNoYXJ0U2NhbGUiOiJsaW5lYXIiLCJwYW5lbHMiOnsiY2hhcnQiOnsicGVyY2VudCI6MSwiZGlzcGxheSI6IkJBIiwiY2hhcnROYW1lIjoiY2hhcnQiLCJpbmRleCI6MCwieUF4aXMiOnsibmFtZSI6ImNoYXJ0IiwicG9zaXRpb24iOm51bGx9LCJ5YXhpc0xIUyI6W10sInlheGlzUkhTIjpbImNoYXJ0Iiwi4oCMdm9sIHVuZHLigIwiXX19LCJsaW5lV2lkdGgiOjIsInN0cmlwZWRCYWNrZ3JvdW5kIjp0cnVlLCJldmVudHMiOnRydWUsImNvbG9yIjoiIzAwODFmMiIsInN0cmlwZWRCYWNrZ3JvdWQiOnRydWUsInJhbmdlIjp7ImR0TGVmdCI6IjIwMTktMDItMTlUMDg6MDA6MDAuMDAwWiIsImR0UmlnaHQiOiIyMDE5LTAzLTIzVDA2OjU5OjAwLjAwMFoiLCJwZXJpb2RpY2l0eSI6eyJpbnRlcnZhbCI6ImRheSIsInBlcmlvZCI6MX0sInBhZGRpbmciOjB9LCJldmVudE1hcCI6eyJjb3Jwb3JhdGUiOnsiZGl2cyI6dHJ1ZSwic3BsaXRzIjp0cnVlfSwic2lnRGV2Ijp7fX0sImN1c3RvbVJhbmdlIjp7InN0YXJ0IjoxNTUwNTYzMjAwMDAwLCJlbmQiOjE1NTMyMzgwMDAwMDB9LCJzeW1ib2xzIjpbeyJzeW1ib2wiOiJCQSIsInN5bWJvbE9iamVjdCI6eyJzeW1ib2wiOiJCQSIsInF1b3RlVHlwZSI6IkVRVUlUWSIsImV4Y2hhbmdlVGltZVpvbmUiOiJBbWVyaWNhL05ld19Zb3JrIn0sInBlcmlvZGljaXR5IjoxLCJpbnRlcnZhbCI6ImRheSJ9XSwic3R1ZGllcyI6eyLigIx2b2wgdW5kcuKAjCI6eyJ0eXBlIjoidm9sIHVuZHIiLCJpbnB1dHMiOnsiaWQiOiLigIx2b2wgdW5kcuKAjCIsImRpc3BsYXkiOiLigIx2b2wgdW5kcuKAjCJ9LCJvdXRwdXRzIjp7IlVwIFZvbHVtZSI6IiMwMGIwNjEiLCJEb3duIFZvbHVtZSI6IiNmZjMzM2EifSwicGFuZWwiOiJjaGFydCIsInBhcmFtZXRlcnMiOnsid2lkdGhGYWN0b3IiOjAuNDUsImNoYXJ0TmFtZSI6ImNoYXJ0IiwicGFuZWxOYW1lIjoiY2hhcnQifX19fQ--) in Boeing company's stock price on 2019-3-11 and 2019-3-12 was caused by Ethiopian Airlines Flight 302 accident on 2019-3-10 (which happens in the weekend) and immediate Boeing 737 MAX grounding."
   ]
  },
  {
   "cell_type": "markdown",
   "id": "b10d31dc-7528-4679-8e64-9f5ed5c01400",
   "metadata": {},
   "source": [
    "### A-3: Test date occurance in DJIA and S&P 500 dataset\n",
    "\n",
    "This code block below will test whether `DJIA.csv` and `SP500.csv` downloaded from https://fred.stlouisfed.org/ contains same sets of dates."
   ]
  },
  {
   "cell_type": "code",
   "execution_count": 9,
   "id": "a123253f-5559-4283-8f1c-cf434291baca",
   "metadata": {},
   "outputs": [
    {
     "name": "stdout",
     "output_type": "stream",
     "text": [
      "         DATE      DJIA\n",
      "0  2011-05-16  12548.37\n",
      "1  2011-05-17  12479.58\n",
      "2  2011-05-18  12560.18\n",
      "         DATE    SP500\n",
      "0  2011-05-16  1329.47\n",
      "1  2011-05-17  1328.98\n",
      "2  2011-05-18  1340.68\n"
     ]
    }
   ],
   "source": [
    "DJIA_complete = pd.read_csv ('data/DJIA.csv')\n",
    "# Drop non-trading days that are present in this .csv file (such as July 4 US National Day)\n",
    "DJIA_complete = DJIA_complete[DJIA_complete.DJIA != '.']\n",
    "print(DJIA_complete.head(3))\n",
    "\n",
    "SP500_complete = pd.read_csv ('data/SP500.csv')\n",
    "# Drop non-trading days that are present in this .csv file (such as July 4 US National Day)\n",
    "SP500_complete = SP500_complete[SP500_complete.SP500 != '.']\n",
    "print(SP500_complete.head(3))"
   ]
  },
  {
   "cell_type": "code",
   "execution_count": 10,
   "id": "b5b373e6-c616-4ac3-8f10-6632c71a8171",
   "metadata": {},
   "outputs": [
    {
     "name": "stdout",
     "output_type": "stream",
     "text": [
      "    DJIA_DATE      DJIA  SP500_DATE    SP500     result\n",
      "0  2011-05-16  12548.37  2011-05-16  1329.47  no change\n",
      "1  2011-05-17  12479.58  2011-05-17  1328.98  no change\n",
      "2  2011-05-18  12560.18  2011-05-18  1340.68  no change\n",
      "3  2011-05-19  12605.32  2011-05-19  1343.60  no change\n",
      "4  2011-05-20  12512.04  2011-05-20  1333.27  no change\n",
      "\n",
      "\n",
      "If the following dataframe output is empty, this means dates in DJIA.csv and SP500.csv are identical.\n",
      "Empty DataFrame\n",
      "Columns: [DJIA_DATE, DJIA, SP500_DATE, SP500, result]\n",
      "Index: []\n"
     ]
    }
   ],
   "source": [
    "DJIA_complete.rename(columns={'DATE': 'DJIA_DATE'}, inplace = True)\n",
    "SP500_complete.rename(columns={'DATE': 'SP500_DATE'}, inplace = True)\n",
    "\n",
    "# Code that tests two column's equality is adapted from https://stackoverflow.com/questions/52777668/python-pandas-compare-two-columns-for-equality-and-result-in-third-dataframe\n",
    "comparison_df = pd.concat([DJIA_complete, SP500_complete], axis=1)\n",
    "comparison_df['result'] = np.where(comparison_df['DJIA_DATE'] == comparison_df['SP500_DATE'], 'no change', 'changed')\n",
    "print(comparison_df.head(5))\n",
    "\n",
    "\n",
    "print('\\n\\nIf the following dataframe output is empty, this means dates in DJIA.csv and SP500.csv are identical.')\n",
    "print(comparison_df.loc[comparison_df['result'] == 'changed'])"
   ]
  },
  {
   "cell_type": "code",
   "execution_count": null,
   "id": "687057e7-39f6-41bf-9795-49de02bfc3b7",
   "metadata": {},
   "outputs": [],
   "source": []
  },
  {
   "cell_type": "code",
   "execution_count": null,
   "id": "674b460f-c052-4c86-8790-12abd7f69c98",
   "metadata": {},
   "outputs": [],
   "source": []
  }
 ],
 "metadata": {
  "kernelspec": {
   "display_name": "Python 3",
   "language": "python",
   "name": "python3"
  },
  "language_info": {
   "codemirror_mode": {
    "name": "ipython",
    "version": 3
   },
   "file_extension": ".py",
   "mimetype": "text/x-python",
   "name": "python",
   "nbconvert_exporter": "python",
   "pygments_lexer": "ipython3",
   "version": "3.8.8"
  }
 },
 "nbformat": 4,
 "nbformat_minor": 5
}
