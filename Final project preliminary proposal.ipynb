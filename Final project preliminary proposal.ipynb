{
 "cells": [
  {
   "cell_type": "markdown",
   "id": "8605c437-3305-49a8-ab33-88e59eebe892",
   "metadata": {},
   "source": [
    "# Final Project Preliminary Proposal:"
   ]
  },
  {
   "cell_type": "markdown",
   "id": "21ec8bbf-9310-4ecf-9363-d1ca37f5cccc",
   "metadata": {},
   "source": [
    "# Seattle City Crime Data Analysis"
   ]
  },
  {
   "cell_type": "markdown",
   "id": "d7ec217a-3d87-444e-a77e-9356ebe33a3a",
   "metadata": {},
   "source": [
    "## Motivation\n",
    "\n",
    "As an international student in University of Washington, I am curious about the City of Seattle and would love to explore different city areas. By learning HCDE 410 and other data science classes in the UW, I am equipped with skills to analyze datasets and generate insights from them. Since I'm concerned about the city's public safety, I want to analyze its crime data to understand frequent crime types, in order to make me educated when going to different places. Research Question 2 is inspired from my past street-walking experience, especially I'm walking in unfamiliar areas, as I'm concerned about whether it's more likely that a person attacks me or just wants my property (no personal harm if I comply).\n",
    "\n",
    "Since I primarily reside in University District while studying in the UW, I want to learn the crime distribution in this area through study Question 3. Before COVID-19 pandemic that moves all UW classes online, I occasionally study in UW libraries, where I discovered posters (from UW Police department) that urge students to protect their valuable items and never leave them unattended. In addition, I occasionally saw bikes (on bike rack) with missing parts, implying that an offender stole usable parts on students' bikes. "
   ]
  },
  {
   "cell_type": "markdown",
   "id": "87ece38d-3a0f-45b8-8fa0-f74a2775d004",
   "metadata": {},
   "source": [
    "## Data Source\n",
    "\n",
    "**Seattle City Crime Data**\n",
    "\n",
    "This data is provided by City of Seattle Police Department documents city-wide crime data since 2008. It is comprehensive, including offense time, type of crime, large neighborhood district, providing me many ways to analyze the crime distribution in Seattle.\n",
    "\n",
    "[Dataset source](https://data.seattle.gov/Public-Safety/SPD-Crime-Data-2008-Present/tazs-3rd5) (Time Range: from 2008 to present)\n",
    "\n",
    "License: Public Domain"
   ]
  },
  {
   "cell_type": "markdown",
   "id": "41e46a04-b568-406a-bd09-40bc21be86c8",
   "metadata": {},
   "source": [
    "## Ethical consideration\n",
    "\n",
    "* Crime classification is subjective, and one person may categorize a crime differently than another person.\n",
    "* Crime offenses that are subsequently acquitted may not be removed from this dataset, resulting a higher number of crime entries than actual prosecutable offenses."
   ]
  },
  {
   "cell_type": "markdown",
   "id": "64b57776-a8d2-419a-b6d2-203ba8e1df51",
   "metadata": {},
   "source": [
    "## Unknown and dependencies:\n",
    "\n",
    "* The Seattle Crime dataset may not contain all crimes that actually happened in the city. The website stated that only finalized (UCR approved) reports are published in this dataset. Those in draft, awaiting approval, or completed after the update may be published at a later date.\n",
    "* When crime investigation proceed further, crime entries may be retroactively added, updated, or removed, which may result in change of historical data when readers re-run my Jupyter notebook program at a later date.\n",
    "* Many crimes are reported after crime offenses, and the offense date & time may not be accurate.\n",
    "* University District covers a larger area than the UW itself (even though this district is very related to UW community), and some reader may disagree with this geographical scope."
   ]
  },
  {
   "cell_type": "markdown",
   "id": "226240df-a9c8-4e37-ba0c-f7e9b3752dc3",
   "metadata": {},
   "source": [
    "## Background and/or Related Work\n",
    "\n",
    "While researching on the Seattle Crime overview, I found [this US News article](https://realestate.usnews.com/places/washington/seattle/crime) describing that Seattle has \"a \\[relatively\\] lower crime rate than similarly sized metro areas\"; it has a higher rate of crimes against property and a lower rate of violent crimes (against people), comparing to the national average. Also, I learned that Seattle has a record high number of murder incidents in 2020, according to this [King5 news article](https://www.king5.com/article/news/local/seattle-police-reports-49-murders-setting-pace-for-record-homicides/281-c32aa4ae-ef9c-485f-a9d8-1113b491fc9d). Within the University of Washington; UW Police websites allows students to register [bicycles](https://bikeindex.org/uw) and [electronics](http://police.uw.edu/community-engagement/loveyourstuff/ereg/), and contents in these web pages describe the prevalence of thefts on them. Hence I assume that robbery/theft are the most frequent offense in the University District.\n",
    "\n",
    "I have adjusted my research question 2, 3, and 4 according to my background research, as I want to use the actual crime data from Seattle Police Department to verify claims made in these articles. In addition, I can learn whether robbery/theft crimes is the most frequent offense in the University District, and whether this crime is noticeably more frequent than the second most popular crime in this UW area. All in all, I hope my final project is related to HCDE 410's lecture regarding open data science where readers can use raw data to audit claims made in analytical reports."
   ]
  },
  {
   "cell_type": "markdown",
   "id": "93a35347-7067-48e3-9c74-ed3ba2882cd6",
   "metadata": {},
   "source": [
    "## Research questions\n",
    "\n",
    "1. Do certain types of crime offenses have become more popular after the onset of COVID-19 Pandemic?\n",
    "2. Does crimes against person happen more frequently than crimes against property?\n",
    "3. Within University District, what are most frequent crime offenses.\n",
    "4. Does Seattle has a record high homicide crime counts in 2020?\n",
    "\n",
    "**Hypothesis:**\n",
    "\n",
    "1. Personal assault crimes have become more popular.\n",
    "2. I hypothesize that crime against property happens more frequently than crimes against person. \n",
    "3. Robbery/theft are the most frequent offense in University District.\n",
    "4. Seattle do have a record high homicide crime counts in 2020.\n"
   ]
  },
  {
   "cell_type": "markdown",
   "id": "38db9eba-03aa-4a53-b792-73842f94240d",
   "metadata": {},
   "source": [
    "## Methodology\n",
    "\n",
    "**Research Question 1:**\n",
    "\n",
    "To determine whether certain types of crimes that become more popular onset of COVID-19 Pandemic, I first tally the monthly total of every crime type from 2019-06-01 to 2020-05-31. Then, I will make a time series graph of all crime type to visually inspect the growing trend of certain crimes after 2020-01-01.\n",
    "\n",
    "**Research Question 2:**\n",
    "\n",
    "For this question, I will tally the total occurrence of time against person and property in every calendar day. By conducting student t-test on two sets of data, I can determine whether it's statistically significant to conclude whether crimes against person happen more frequently than crimes against property. \n",
    "\n",
    "**Research Question 3:**\n",
    "\n",
    "After filtering the city district to University, I will tally the number of crime occurrences by type in a day, and record three (or five) most frequent types. Then, I will compile daily top lists together and determine which daily top crime types happening in most number of days. To make readers easier to understand the result, I will use bar graph and table to visually it.\n",
    "\n",
    "I decide not to do simple arithmetic addition of all crime incident (in all days) and find the most-frequent crime types, because this simple analysis is not focused on the type of crime that people may mostly encounter everyday. In addition, the total number of crimes can change noticeably on days that University District are less active (such as in Summer vacation quarters), so determining the most frequent crime type in a single day can more accurately answer my research question.\n",
    "\n",
    "**Research Question 4:**\n",
    "\n",
    "First, I will filter the entire dataset to keep only homicide crime listing, and then tally the annual number of homicide crimes. Finally, I will make a time series graph to visually present the number of homicide crimes, where readers can visually observe whether Seattle has a record high homicide crime count in 2021."
   ]
  },
  {
   "cell_type": "code",
   "execution_count": null,
   "id": "8d0c037f-4f56-4d24-ae1c-a466f55b25f6",
   "metadata": {},
   "outputs": [],
   "source": []
  }
 ],
 "metadata": {
  "kernelspec": {
   "display_name": "Python 3",
   "language": "python",
   "name": "python3"
  },
  "language_info": {
   "codemirror_mode": {
    "name": "ipython",
    "version": 3
   },
   "file_extension": ".py",
   "mimetype": "text/x-python",
   "name": "python",
   "nbconvert_exporter": "python",
   "pygments_lexer": "ipython3",
   "version": "3.8.8"
  }
 },
 "nbformat": 4,
 "nbformat_minor": 5
}
