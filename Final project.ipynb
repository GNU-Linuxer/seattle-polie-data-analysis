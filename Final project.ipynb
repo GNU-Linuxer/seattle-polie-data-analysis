{
 "cells": [
  {
   "cell_type": "markdown",
   "id": "21ec8bbf-9310-4ecf-9363-d1ca37f5cccc",
   "metadata": {},
   "source": [
    "# Seattle City Crime Data Analysis"
   ]
  },
  {
   "cell_type": "markdown",
   "id": "d7ec217a-3d87-444e-a77e-9356ebe33a3a",
   "metadata": {},
   "source": [
    "## 1: Motivation\n",
    "\n",
    "As an international student in University of Washington, I am curious about the City of Seattle and would love to explore different city areas. By learning HCDE 410 and other data science classes in the UW, I am equipped with skills to analyze datasets and generate insights from them. Since I'm concerned about the city's public safety, I want to analyze its crime data to understand frequent crime types, in order to make me educated when going to different places. Research Question 2 is inspired from my past street-walking experience, especially when I'm walking in unfamiliar areas, as I'm concerned about whether it's more likely that a person attacks me or just wants my property (no personal harm if I comply).\n",
    "\n",
    "Since I primarily reside in University District while studying in the UW, I want to learn the crime distribution in this area through study Question 3. Before COVID-19 pandemic that moves all UW classes online, I occasionally studied in UW libraries, where I discovered posters (from UW Police department) that urge students to protect their valuable items and never leave them unattended. In addition, I occasionally saw bikes (on bike rack) with missing parts, implying that an offender stole usable parts on students' bikes. "
   ]
  },
  {
   "cell_type": "markdown",
   "id": "226240df-a9c8-4e37-ba0c-f7e9b3752dc3",
   "metadata": {},
   "source": [
    "## 2: Background and/or Related Work\n",
    "\n",
    "While researching the Seattle Crime overview, I found [this US News article](https://realestate.usnews.com/places/washington/seattle/crime) describing that Seattle has \"a \\[relatively\\] lower crime rate than similarly sized metro areas\"; it has a higher rate of crimes against property and a lower rate of violent crimes (against people), comparing to the national average. Also, I learned that Seattle has a record high number of murder incidents in 2020, according to this [King5 news article](https://www.king5.com/article/news/local/seattle-police-reports-49-murders-setting-pace-for-record-homicides/281-c32aa4ae-ef9c-485f-a9d8-1113b491fc9d). Within the University of Washington; UW Police websites allow students to register [bicycles](https://bikeindex.org/uw) and [electronics](http://police.uw.edu/community-engagement/loveyourstuff/ereg/), and contents in these web pages describe the prevalence of thefts on them. Hence I assume that robbery/theft are the most frequent offense in the University District. Regarding how COVID-19 Pandemic affecting crime distribution, I remembered that attacks against people increases partially due to economic depression and discrimination against east Asian people (alleged origin of COVID-19).\n",
    "\n",
    "I have adjusted my research question 2, 3, and 4 according to my background research, as I want to use the actual crime data from Seattle Police Department to verify claims made in these articles. In addition, I can learn whether robbery/theft crimes is the most frequent offense in the University District, and whether this crime is noticeably more frequent than the second most popular crime in this UW area. All in all, I hope my final project is related to HCDE 410's lecture regarding open data science where readers can use raw data to audit claims made in analytical reports."
   ]
  },
  {
   "cell_type": "markdown",
   "id": "93a35347-7067-48e3-9c74-ed3ba2882cd6",
   "metadata": {},
   "source": [
    "## 3: Research questions\n",
    "\n",
    "1. Do certain types of crime offenses have become more popular after the onset of COVID-19 Pandemic?\n",
    "2. Do crimes against a person happen more frequently than crimes against property in Seattle, generally?\n",
    "3. Within the University District, what are most frequent crime offenses.\n",
    "4. Does Seattle has a record high homicide crime counts in 2020?\n",
    "\n",
    "### 3-1: Hypothesis:**\n",
    "\n",
    "1. Personal assault crimes have become more popular during COVID-19.\n",
    "2. I hypothesize that crime against property happens more frequently than crimes against a person. \n",
    "3. Robbery/theft are the most frequent offenses in the University District.\n",
    "4. Seattle does have a record high homicide crime count in 2020.\n"
   ]
  },
  {
   "cell_type": "markdown",
   "id": "87ece38d-3a0f-45b8-8fa0-f74a2775d004",
   "metadata": {},
   "source": [
    "## 4: Data Source\n",
    "\n",
    "**Seattle City Crime Data**\n",
    "\n",
    "This data is provided by the City of Seattle Police Department documents city-wide crime data since 2008. It is comprehensive, including offense time, type of crime, large neighborhood district, providing me many ways to analyze the crime distribution in Seattle.\n",
    "\n",
    "[Dataset source](https://data.seattle.gov/Public-Safety/SPD-Crime-Data-2008-Present/tazs-3rd5) (Time Range: from 2008 to present)\n",
    "\n",
    "License: Public Domain"
   ]
  },
  {
   "cell_type": "code",
   "execution_count": 1,
   "id": "8d0c037f-4f56-4d24-ae1c-a466f55b25f6",
   "metadata": {},
   "outputs": [],
   "source": [
    "import pandas as pd\n",
    "import numpy as np\n",
    "from IPython.display import display\n",
    "from datetime import datetime"
   ]
  },
  {
   "cell_type": "code",
   "execution_count": 4,
   "id": "257edba5-a6e2-4979-af6e-d16f7efdc6ba",
   "metadata": {},
   "outputs": [
    {
     "name": "stdout",
     "output_type": "stream",
     "text": [
      "https://data.seattle.gov/resource/tazs-3rd5.csv?$limit=1000000&$select=offense_start_datetime,crime_against_category,offense_parent_group,offense,mcpp&$$app_token=SGxXejSEoCpKVTLb0IzwU4X8w\n"
     ]
    }
   ],
   "source": [
    "#the URL we're retrieving the data from. Copy/paste it into your browser to view it!\n",
    "api_endpoint = \"https://data.seattle.gov/resource/tazs-3rd5.csv\"\n",
    "\n",
    "#the parameters we're passing to the API, to specify what subset of data we want.\n",
    "api_parameters = \"?$limit=1000000&\" # Increase limit to 1000000, increase this number if dataset has more rows \n",
    "api_parameters = api_parameters + \"$select=offense_start_datetime,crime_against_category,offense_parent_group,offense,mcpp&\" # Only select columns that I need for my data analysis\n",
    "api_parameters = api_parameters + \"$$app_token=\" + open(\"data/token.txt\", \"r\").readline()\n",
    "\n",
    "print(api_endpoint + api_parameters)\n",
    "police_data = pd.read_csv(api_endpoint + api_parameters)"
   ]
  },
  {
   "cell_type": "code",
   "execution_count": 5,
   "id": "38819bdd-0947-4024-87cf-f1dcc625fdb8",
   "metadata": {},
   "outputs": [
    {
     "name": "stdout",
     "output_type": "stream",
     "text": [
      "         offense_start_datetime crime_against_category  \\\n",
      "0       2020-02-05T10:10:00.000                SOCIETY   \n",
      "1       2020-02-03T08:00:00.000               PROPERTY   \n",
      "2       2020-02-02T20:30:00.000               PROPERTY   \n",
      "3       2020-02-05T01:17:00.000               PROPERTY   \n",
      "4       2020-02-05T00:51:21.000                SOCIETY   \n",
      "...                         ...                    ...   \n",
      "904309  2013-07-13T01:00:00.000               PROPERTY   \n",
      "904310  2013-06-26T11:00:00.000               PROPERTY   \n",
      "904311  2012-02-14T15:04:00.000               PROPERTY   \n",
      "904312  2010-09-19T16:59:00.000               PROPERTY   \n",
      "904313  2010-02-25T18:00:00.000               PROPERTY   \n",
      "\n",
      "                            offense_parent_group  \\\n",
      "0                         DRUG/NARCOTIC OFFENSES   \n",
      "1                                  LARCENY-THEFT   \n",
      "2                                        ROBBERY   \n",
      "3       DESTRUCTION/DAMAGE/VANDALISM OF PROPERTY   \n",
      "4                    DRIVING UNDER THE INFLUENCE   \n",
      "...                                          ...   \n",
      "904309                       MOTOR VEHICLE THEFT   \n",
      "904310                       MOTOR VEHICLE THEFT   \n",
      "904311                             LARCENY-THEFT   \n",
      "904312                             LARCENY-THEFT   \n",
      "904313                       MOTOR VEHICLE THEFT   \n",
      "\n",
      "                                            offense                 mcpp  \n",
      "0                          Drug/Narcotic Violations             MAGNOLIA  \n",
      "1       Theft of Motor Vehicle Parts or Accessories    ROOSEVELT/RAVENNA  \n",
      "2                                           Robbery    ROOSEVELT/RAVENNA  \n",
      "3          Destruction/Damage/Vandalism of Property             MAGNOLIA  \n",
      "4                       Driving Under the Influence        BALLARD SOUTH  \n",
      "...                                             ...                  ...  \n",
      "904309                          Motor Vehicle Theft         PIGEON POINT  \n",
      "904310                          Motor Vehicle Theft           QUEEN ANNE  \n",
      "904311                                  Shoplifting    ROOSEVELT/RAVENNA  \n",
      "904312                                  Shoplifting  DOWNTOWN COMMERCIAL  \n",
      "904313                          Motor Vehicle Theft           QUEEN ANNE  \n",
      "\n",
      "[904314 rows x 5 columns]\n"
     ]
    }
   ],
   "source": [
    "print(police_data)"
   ]
  },
  {
   "cell_type": "markdown",
   "id": "813e57d7-df1a-4bc9-b0ac-950c7ab2a1b0",
   "metadata": {},
   "source": [
    "## 5: Methodology\n",
    "\n",
    "### 5-1: Pre-analysis data cleaning\n",
    "\n",
    "Convert date string (from all four datasets) to Python datetime object so we can compare equality of dates across different datasets.\n",
    "\n",
    "Also, I decide to remove `offense_start_datetime` before 2008-01-01, as the website stated that only data that's recorded on and after 2008 is present in dataset. Since crimes happened earlier than 2008 may be entered to this dataset, such number of crimes may be noticeably less than actual number of incidents, which would make my analysis (on crime incidents happened before 2008) biased. In fact, we only remove 2644 cases (904314-901670) dated before 2008-01-01 (calculated on 2021-05-27)."
   ]
  },
  {
   "cell_type": "code",
   "execution_count": 13,
   "id": "7030f042-d325-4363-9219-b52b05b16bff",
   "metadata": {},
   "outputs": [
    {
     "name": "stdout",
     "output_type": "stream",
     "text": [
      "       crime_against_category                      offense_parent_group  \\\n",
      "0                     SOCIETY                    DRUG/NARCOTIC OFFENSES   \n",
      "1                    PROPERTY                             LARCENY-THEFT   \n",
      "2                    PROPERTY                                   ROBBERY   \n",
      "3                    PROPERTY  DESTRUCTION/DAMAGE/VANDALISM OF PROPERTY   \n",
      "4                     SOCIETY               DRIVING UNDER THE INFLUENCE   \n",
      "...                       ...                                       ...   \n",
      "904309               PROPERTY                       MOTOR VEHICLE THEFT   \n",
      "904310               PROPERTY                       MOTOR VEHICLE THEFT   \n",
      "904311               PROPERTY                             LARCENY-THEFT   \n",
      "904312               PROPERTY                             LARCENY-THEFT   \n",
      "904313               PROPERTY                       MOTOR VEHICLE THEFT   \n",
      "\n",
      "                                            offense                 mcpp  \\\n",
      "0                          Drug/Narcotic Violations             MAGNOLIA   \n",
      "1       Theft of Motor Vehicle Parts or Accessories    ROOSEVELT/RAVENNA   \n",
      "2                                           Robbery    ROOSEVELT/RAVENNA   \n",
      "3          Destruction/Damage/Vandalism of Property             MAGNOLIA   \n",
      "4                       Driving Under the Influence        BALLARD SOUTH   \n",
      "...                                             ...                  ...   \n",
      "904309                          Motor Vehicle Theft         PIGEON POINT   \n",
      "904310                          Motor Vehicle Theft           QUEEN ANNE   \n",
      "904311                                  Shoplifting    ROOSEVELT/RAVENNA   \n",
      "904312                                  Shoplifting  DOWNTOWN COMMERCIAL   \n",
      "904313                          Motor Vehicle Theft           QUEEN ANNE   \n",
      "\n",
      "       offense_start_date_cleaned  \n",
      "0             2020-02-05 10:10:00  \n",
      "1             2020-02-03 08:00:00  \n",
      "2             2020-02-02 20:30:00  \n",
      "3             2020-02-05 01:17:00  \n",
      "4             2020-02-05 00:51:21  \n",
      "...                           ...  \n",
      "904309        2013-07-13 01:00:00  \n",
      "904310        2013-06-26 11:00:00  \n",
      "904311        2012-02-14 15:04:00  \n",
      "904312        2010-09-19 16:59:00  \n",
      "904313        2010-02-25 18:00:00  \n",
      "\n",
      "[901670 rows x 5 columns]\n"
     ]
    }
   ],
   "source": [
    "# Drop mili-seconds due to Python's Date format does not recognize 3-digit mili-second (it only recognize micro-second)\n",
    "police_data['offense_start_date_cleaned'] = pd.to_datetime(police_data['offense_start_datetime'], format='%Y-%m-%dT%H:%M:%S') \n",
    "\n",
    "# Drop offense_start_datetime before 2008-01-01\n",
    "police_data_cleaned = police_data[police_data['offense_start_date_cleaned'] >= datetime.strptime('2008-01-01', '%Y-%m-%d')]\n",
    "\n",
    "# Drop pre-parsed date time column\n",
    "police_data_cleaned = police_data_cleaned.drop(columns=['offense_start_datetime'])\n",
    "\n",
    "#print(police_data)\n",
    "print(police_data_cleaned)"
   ]
  },
  {
   "cell_type": "markdown",
   "id": "2c9b16ab-9875-4553-8ef9-9d7b7405ca9e",
   "metadata": {},
   "source": [
    "## 5-2: increased crime type on the onset of COVID-19 Pandemic\n",
    "\n",
    "To determine whether certain types of crimes will become more popular after the onset of COVID-19 Pandemic, I first tally the monthly total of every crime type from 2019-01-01 to 2020-12-31. Then, I will make a time series graph of all crime types to visually inspect the growing trend of certain crimes after 2020-01-01."
   ]
  },
  {
   "cell_type": "markdown",
   "id": "38db9eba-03aa-4a53-b792-73842f94240d",
   "metadata": {},
   "source": [
    "\n",
    "\n",
    "**Research Question 2:**\n",
    "\n",
    "For this question, I will tally the total occurrence of time against person and property in every calendar day. By conducting a student t-test on two sets of data, I can determine whether it's statistically significant to conclude whether crimes against person happen more frequently than crimes against property. \n",
    "\n",
    "**Research Question 3:**\n",
    "\n",
    "After filtering the city district to University, I will tally the number of crime occurrences by type in a day, and record three (or five) most frequent types. Then, I will compile daily top lists together and determine which daily top crime types happen in the most number of days. To make it easier for readers to understand results, I will use a bar graph and table to visually it.\n",
    "\n",
    "I decide not to do simple arithmetic addition of all crime incidents (in all days) and find the most-frequent crime types, because this simple analysis is not focused on the type of crime that people may mostly encounter everyday. In addition, the total number of crimes can change noticeably on days that the University District is less active (such as in Summer vacation quarters), so determining the most frequent crime type in a single day can more accurately answer my research question.\n",
    "\n",
    "**Research Question 4:**\n",
    "\n",
    "First, I will filter the entire dataset to keep only the homicide crime listing, and then tally the annual number of homicide crimes. Finally, I will make a time series graph to visually present the number of homicide crimes, where readers can visually observe whether Seattle has a record high homicide crime count in 2021."
   ]
  },
  {
   "cell_type": "markdown",
   "id": "41e46a04-b568-406a-bd09-40bc21be86c8",
   "metadata": {},
   "source": [
    "## Ethical consideration\n",
    "\n",
    "* Crime classification is subjective, and one person may categorize a crime differently than another person.\n",
    "* Crime offenses that are subsequently acquitted may not be removed from this dataset, resulting in a higher number of crime entries than actual prosecutable offenses."
   ]
  },
  {
   "cell_type": "markdown",
   "id": "64b57776-a8d2-419a-b6d2-203ba8e1df51",
   "metadata": {},
   "source": [
    "## Unknown and dependencies:\n",
    "\n",
    "* The Seattle Crime dataset may not contain all crimes that actually happened in the city. The website stated that only finalized (UCR approved) reports are published in this dataset. Those in draft, awaiting approval, or completed after the update may be published at a later date.\n",
    "* When crime investigation proceeds further, crime entries may be retroactively added, updated, or removed, which may result in change of historical data when readers re-run my Jupyter notebook program at a later date.\n",
    "* This dataset does not include committed crimes that are not yet discovered/found out by any police department.\n",
    "* Many crimes are reported after crime offenses, and the offense date & time may not be accurate.\n",
    "* University District covers a larger area than the UW itself (even though this district is very related to the UW community), and some readers may disagree with this geographical scope."
   ]
  },
  {
   "cell_type": "code",
   "execution_count": null,
   "id": "da68960e-b6a3-4788-8b98-57cb497fdb2d",
   "metadata": {},
   "outputs": [],
   "source": [
    "#ggplot2 in R is a very intuitive and easy to understand graph programming syntax (and there're just a lot of articles on ggplot due to its popularity)\n",
    "#One noticeable limitation for plotnine it that it could not draw pie chart (it lacks coord_polar implementation)\n",
    "\n",
    "#!conda install plotnine # if plotnine is not already installed\n",
    "#!pip install plotnine # if plotnine is not already installed\n",
    "from plotnine import * #plotnine contains ggplot function\n",
    "# from plotnine.data import mpg #import ggplot's sample data (such as mpg), useful for debugging"
   ]
  },
  {
   "cell_type": "code",
   "execution_count": null,
   "id": "6b092b81-a3bb-440e-8fd7-1fc7e67438d9",
   "metadata": {},
   "outputs": [],
   "source": [
    "personal_crimes = police_data[police_data['crime_against_category'] == \"PERSON\"]"
   ]
  },
  {
   "cell_type": "code",
   "execution_count": null,
   "id": "7b2756b3-7b46-4b4c-8e2c-9e325e87f155",
   "metadata": {},
   "outputs": [],
   "source": [
    "print(personal_crimes)"
   ]
  },
  {
   "cell_type": "code",
   "execution_count": null,
   "id": "c877f72b-5afd-45e5-947e-c3acc1515dff",
   "metadata": {},
   "outputs": [],
   "source": [
    "print(personal_crimes['offense_parent_group'].unique())"
   ]
  },
  {
   "cell_type": "code",
   "execution_count": null,
   "id": "11e46982-3bb6-4e58-8090-bee95c345ffc",
   "metadata": {},
   "outputs": [],
   "source": [
    "homicide_offense = police_data[police_data['offense_parent_group'] == \"HOMICIDE OFFENSES\"]"
   ]
  },
  {
   "cell_type": "code",
   "execution_count": null,
   "id": "7e30f3f6-c8d4-441f-adb7-21c257dc8b0e",
   "metadata": {},
   "outputs": [],
   "source": [
    "print(homicide_offense)"
   ]
  },
  {
   "cell_type": "code",
   "execution_count": null,
   "id": "f663cd36-74eb-43a6-a772-625c8c5ccd64",
   "metadata": {},
   "outputs": [],
   "source": []
  }
 ],
 "metadata": {
  "kernelspec": {
   "display_name": "Python 3",
   "language": "python",
   "name": "python3"
  },
  "language_info": {
   "codemirror_mode": {
    "name": "ipython",
    "version": 3
   },
   "file_extension": ".py",
   "mimetype": "text/x-python",
   "name": "python",
   "nbconvert_exporter": "python",
   "pygments_lexer": "ipython3",
   "version": "3.8.8"
  }
 },
 "nbformat": 4,
 "nbformat_minor": 5
}
