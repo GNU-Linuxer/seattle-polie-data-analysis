{
 "cells": [
  {
   "cell_type": "markdown",
   "id": "21ec8bbf-9310-4ecf-9363-d1ca37f5cccc",
   "metadata": {},
   "source": [
    "# Seattle City Crime Data Analysis"
   ]
  },
  {
   "cell_type": "markdown",
   "id": "d7ec217a-3d87-444e-a77e-9356ebe33a3a",
   "metadata": {},
   "source": [
    "## 1: Motivation\n",
    "\n",
    "As an international student in University of Washington, I am curious about the City of Seattle and would love to explore different city areas. By learning HCDE 410 and other data science classes in the UW, I am equipped with skills to analyze datasets and generate insights from them. Since I'm concerned about the city's public safety, I want to analyze its crime data to understand frequent crime types, in order to make me educated when going to different places. Research Question 2 is inspired from my past street-walking experience, especially when I'm walking in unfamiliar areas, as I'm concerned about whether it's more likely that a person attacks me or just wants my property (no personal harm if I comply).\n",
    "\n",
    "Since I primarily reside in University District while studying in the UW, I want to learn the crime distribution in this area through study Question 3. Before COVID-19 pandemic that moves all UW classes online, I occasionally studied in UW libraries, where I discovered posters (from UW Police department) that urge students to protect their valuable items and never leave them unattended. In addition, I occasionally saw bikes (on bike rack) with missing parts, implying that an offender stole usable parts on students' bikes. "
   ]
  },
  {
   "cell_type": "markdown",
   "id": "226240df-a9c8-4e37-ba0c-f7e9b3752dc3",
   "metadata": {},
   "source": [
    "## 2: Background and/or Related Work\n",
    "\n",
    "While researching the Seattle Crime overview, I found [this US News article](https://realestate.usnews.com/places/washington/seattle/crime) describing that Seattle has \"a \\[relatively\\] lower crime rate than similarly sized metro areas\"; it has a higher rate of crimes against property and a lower rate of violent crimes (against people), comparing to the national average. Also, I learned that Seattle has a record high number of murder incidents in 2020, according to this [King5 news article](https://www.king5.com/article/news/local/seattle-police-reports-49-murders-setting-pace-for-record-homicides/281-c32aa4ae-ef9c-485f-a9d8-1113b491fc9d). Within the University of Washington; UW Police websites allow students to register [bicycles](https://bikeindex.org/uw) and [electronics](http://police.uw.edu/community-engagement/loveyourstuff/ereg/), and contents in these web pages describe the prevalence of thefts on them. Hence I assume that robbery/theft are the most frequent offense in the University District. Regarding how COVID-19 Pandemic affecting crime distribution, I remembered that attacks against people increases partially due to economic depression and discrimination against east Asian people (alleged origin of COVID-19).\n",
    "\n",
    "I have adjusted my research question 2, 3, and 4 according to my background research, as I want to use the actual crime data from Seattle Police Department to verify claims made in these articles. In addition, I can learn whether robbery/theft crimes is the most frequent offense in the University District, and whether this crime is noticeably more frequent than the second most popular crime in this UW area. All in all, I hope my final project is related to HCDE 410's lecture regarding open data science where readers can use raw data to audit claims made in analytical reports."
   ]
  },
  {
   "cell_type": "markdown",
   "id": "93a35347-7067-48e3-9c74-ed3ba2882cd6",
   "metadata": {},
   "source": [
    "## 3: Research questions\n",
    "\n",
    "1. Do certain types of crime offenses have become more popular after the onset of COVID-19 Pandemic?\n",
    "2. Do crimes against a person happen more frequently than crimes against property in Seattle, generally?\n",
    "3. Within the University District, what are most frequent crime offenses.\n",
    "4. Does Seattle has a record high homicide crime counts in 2020?\n",
    "\n",
    "### 3-1: Hypothesis:**\n",
    "\n",
    "1. Personal assault crimes have become more popular during COVID-19.\n",
    "2. I hypothesize that crime against property happens more frequently than crimes against a person. \n",
    "3. Robbery/theft are the most frequent offenses in the University District.\n",
    "4. Seattle does have a record high homicide crime count in 2020.\n"
   ]
  },
  {
   "cell_type": "markdown",
   "id": "87ece38d-3a0f-45b8-8fa0-f74a2775d004",
   "metadata": {},
   "source": [
    "## 4: Data Source\n",
    "\n",
    "**Seattle City Crime Data**\n",
    "\n",
    "This data is provided by the City of Seattle Police Department documents city-wide crime data since 2008. It is comprehensive, including offense time, type of crime, large neighborhood district, providing me many ways to analyze the crime distribution in Seattle.\n",
    "\n",
    "[Dataset source](https://data.seattle.gov/Public-Safety/SPD-Crime-Data-2008-Present/tazs-3rd5) (Time Range: from 2008 to present)\n",
    "\n",
    "License: Public Domain"
   ]
  },
  {
   "cell_type": "code",
   "execution_count": 1,
   "id": "8d0c037f-4f56-4d24-ae1c-a466f55b25f6",
   "metadata": {},
   "outputs": [],
   "source": [
    "import pandas as pd\n",
    "import numpy as np\n",
    "from IPython.display import display\n",
    "from datetime import datetime"
   ]
  },
  {
   "cell_type": "code",
   "execution_count": 2,
   "id": "da68960e-b6a3-4788-8b98-57cb497fdb2d",
   "metadata": {},
   "outputs": [],
   "source": [
    "#ggplot2 in R is a very intuitive and easy to understand graph programming syntax (and there're just a lot of articles on ggplot due to its popularity)\n",
    "#One noticeable limitation for plotnine it that it could not draw pie chart (it lacks coord_polar implementation)\n",
    "\n",
    "#!conda install plotnine # if plotnine is not already installed\n",
    "#!pip install plotnine # if plotnine is not already installed\n",
    "from plotnine import * #plotnine contains ggplot function\n",
    "# from plotnine.data import mpg #import ggplot's sample data (such as mpg), useful for debugging"
   ]
  },
  {
   "cell_type": "code",
   "execution_count": 3,
   "id": "257edba5-a6e2-4979-af6e-d16f7efdc6ba",
   "metadata": {},
   "outputs": [
    {
     "name": "stdout",
     "output_type": "stream",
     "text": [
      "Downloading .csv from https://data.seattle.gov/resource/tazs-3rd5.csv?$limit=1000000&$select=offense_start_datetime,crime_against_category,offense_parent_group,offense,mcpp&$$app_token=SGxXejSEoCpKVTLb0IzwU4X8w\n"
     ]
    }
   ],
   "source": [
    "#the URL we're retrieving the data from. Copy/paste it into your browser to view it!\n",
    "api_endpoint = \"https://data.seattle.gov/resource/tazs-3rd5.csv\"\n",
    "\n",
    "#the parameters we're passing to the API, to specify what subset of data we want.\n",
    "api_parameters = \"?$limit=1000000&\" # Increase limit to 1000000, increase this number if dataset has more rows \n",
    "api_parameters = api_parameters + \"$select=offense_start_datetime,crime_against_category,offense_parent_group,offense,mcpp&\" # Only select columns that I need for my data analysis\n",
    "api_parameters = api_parameters + \"$$app_token=\" + open(\"data/token.txt\", \"r\").readline()\n",
    "\n",
    "print('Downloading .csv from ' + api_endpoint + api_parameters)\n",
    "police_data = pd.read_csv(api_endpoint + api_parameters)"
   ]
  },
  {
   "cell_type": "code",
   "execution_count": 4,
   "id": "38819bdd-0947-4024-87cf-f1dcc625fdb8",
   "metadata": {},
   "outputs": [
    {
     "name": "stdout",
     "output_type": "stream",
     "text": [
      "         offense_start_datetime crime_against_category  \\\n",
      "0       2020-02-05T10:10:00.000                SOCIETY   \n",
      "1       2020-02-03T08:00:00.000               PROPERTY   \n",
      "2       2020-02-02T20:30:00.000               PROPERTY   \n",
      "3       2020-02-05T01:17:00.000               PROPERTY   \n",
      "4       2020-02-05T00:51:21.000                SOCIETY   \n",
      "...                         ...                    ...   \n",
      "904458  2013-07-13T01:00:00.000               PROPERTY   \n",
      "904459  2013-06-26T11:00:00.000               PROPERTY   \n",
      "904460  2012-02-14T15:04:00.000               PROPERTY   \n",
      "904461  2010-09-19T16:59:00.000               PROPERTY   \n",
      "904462  2010-02-25T18:00:00.000               PROPERTY   \n",
      "\n",
      "                            offense_parent_group  \\\n",
      "0                         DRUG/NARCOTIC OFFENSES   \n",
      "1                                  LARCENY-THEFT   \n",
      "2                                        ROBBERY   \n",
      "3       DESTRUCTION/DAMAGE/VANDALISM OF PROPERTY   \n",
      "4                    DRIVING UNDER THE INFLUENCE   \n",
      "...                                          ...   \n",
      "904458                       MOTOR VEHICLE THEFT   \n",
      "904459                       MOTOR VEHICLE THEFT   \n",
      "904460                             LARCENY-THEFT   \n",
      "904461                             LARCENY-THEFT   \n",
      "904462                       MOTOR VEHICLE THEFT   \n",
      "\n",
      "                                            offense                 mcpp  \n",
      "0                          Drug/Narcotic Violations             MAGNOLIA  \n",
      "1       Theft of Motor Vehicle Parts or Accessories    ROOSEVELT/RAVENNA  \n",
      "2                                           Robbery    ROOSEVELT/RAVENNA  \n",
      "3          Destruction/Damage/Vandalism of Property             MAGNOLIA  \n",
      "4                       Driving Under the Influence        BALLARD SOUTH  \n",
      "...                                             ...                  ...  \n",
      "904458                          Motor Vehicle Theft         PIGEON POINT  \n",
      "904459                          Motor Vehicle Theft           QUEEN ANNE  \n",
      "904460                                  Shoplifting    ROOSEVELT/RAVENNA  \n",
      "904461                                  Shoplifting  DOWNTOWN COMMERCIAL  \n",
      "904462                          Motor Vehicle Theft           QUEEN ANNE  \n",
      "\n",
      "[904463 rows x 5 columns]\n"
     ]
    }
   ],
   "source": [
    "print(police_data)"
   ]
  },
  {
   "cell_type": "markdown",
   "id": "813e57d7-df1a-4bc9-b0ac-950c7ab2a1b0",
   "metadata": {},
   "source": [
    "## 5: Methodology\n",
    "\n",
    "### 5-1: Pre-analysis data cleaning\n",
    "\n",
    "Convert date string (from all four datasets) to Python datetime object so we can compare equality of dates across different datasets.\n",
    "\n",
    "Also, I decide to remove `offense_start_datetime` before 2008-01-01, as the website stated that only data that's recorded on and after 2008 is present in dataset. Since crimes happened earlier than 2008 may be entered to this dataset, such number of crimes may be noticeably less than actual number of incidents, which would make my analysis (on crime incidents happened before 2008) biased. In fact, we only remove 2644 cases (904314-901670) dated before 2008-01-01 (calculated on 2021-05-27)."
   ]
  },
  {
   "cell_type": "code",
   "execution_count": 5,
   "id": "7030f042-d325-4363-9219-b52b05b16bff",
   "metadata": {
    "tags": []
   },
   "outputs": [
    {
     "name": "stdout",
     "output_type": "stream",
     "text": [
      "       crime_against_category                      offense_parent_group  \\\n",
      "0                     SOCIETY                    DRUG/NARCOTIC OFFENSES   \n",
      "1                    PROPERTY                             LARCENY-THEFT   \n",
      "2                    PROPERTY                                   ROBBERY   \n",
      "3                    PROPERTY  DESTRUCTION/DAMAGE/VANDALISM OF PROPERTY   \n",
      "4                     SOCIETY               DRIVING UNDER THE INFLUENCE   \n",
      "...                       ...                                       ...   \n",
      "904458               PROPERTY                       MOTOR VEHICLE THEFT   \n",
      "904459               PROPERTY                       MOTOR VEHICLE THEFT   \n",
      "904460               PROPERTY                             LARCENY-THEFT   \n",
      "904461               PROPERTY                             LARCENY-THEFT   \n",
      "904462               PROPERTY                       MOTOR VEHICLE THEFT   \n",
      "\n",
      "                                            offense                 mcpp  \\\n",
      "0                          Drug/Narcotic Violations             MAGNOLIA   \n",
      "1       Theft of Motor Vehicle Parts or Accessories    ROOSEVELT/RAVENNA   \n",
      "2                                           Robbery    ROOSEVELT/RAVENNA   \n",
      "3          Destruction/Damage/Vandalism of Property             MAGNOLIA   \n",
      "4                       Driving Under the Influence        BALLARD SOUTH   \n",
      "...                                             ...                  ...   \n",
      "904458                          Motor Vehicle Theft         PIGEON POINT   \n",
      "904459                          Motor Vehicle Theft           QUEEN ANNE   \n",
      "904460                                  Shoplifting    ROOSEVELT/RAVENNA   \n",
      "904461                                  Shoplifting  DOWNTOWN COMMERCIAL   \n",
      "904462                          Motor Vehicle Theft           QUEEN ANNE   \n",
      "\n",
      "       offense_start_date_cleaned  \n",
      "0             2020-02-05 10:10:00  \n",
      "1             2020-02-03 08:00:00  \n",
      "2             2020-02-02 20:30:00  \n",
      "3             2020-02-05 01:17:00  \n",
      "4             2020-02-05 00:51:21  \n",
      "...                           ...  \n",
      "904458        2013-07-13 01:00:00  \n",
      "904459        2013-06-26 11:00:00  \n",
      "904460        2012-02-14 15:04:00  \n",
      "904461        2010-09-19 16:59:00  \n",
      "904462        2010-02-25 18:00:00  \n",
      "\n",
      "[901819 rows x 5 columns]\n"
     ]
    }
   ],
   "source": [
    "# Drop mili-seconds due to Python's Date format does not recognize 3-digit mili-second (it only recognize micro-second)\n",
    "police_data['offense_start_date_cleaned'] = pd.to_datetime(police_data['offense_start_datetime'], format='%Y-%m-%dT%H:%M:%S') \n",
    "\n",
    "# Drop offense_start_datetime before 2008-01-01\n",
    "police_data_cleaned = police_data[police_data['offense_start_date_cleaned'] >= datetime.strptime('2008-01-01', '%Y-%m-%d')]\n",
    "\n",
    "# Drop pre-parsed date time column\n",
    "police_data_cleaned = police_data_cleaned.drop(columns=['offense_start_datetime'])\n",
    "\n",
    "#print(police_data)\n",
    "print(police_data_cleaned)"
   ]
  },
  {
   "cell_type": "markdown",
   "id": "2c9b16ab-9875-4553-8ef9-9d7b7405ca9e",
   "metadata": {},
   "source": [
    "### 5-2: increased crime type after the onset of COVID-19 Pandemic\n",
    "\n",
    "To determine whether certain types of crimes will become more popular after the onset of COVID-19 Pandemic, I first tally the monthly total of every crime type from 2019-01-01 to 2020-12-31. Then, I will make a time series graph of all crime types to visually inspect the growing trend of certain crimes after 2020-01-01.\n",
    "\n",
    "In this analysis, I decide to use `offense_parent_group` instead of a more detailed `offense`, as the number of unique `offense` is more than the capacity limit of a presentable time-series graph (for aesthestic purposes)"
   ]
  },
  {
   "cell_type": "code",
   "execution_count": 6,
   "id": "f0514f94-b027-4791-9db2-7a9ab3baba31",
   "metadata": {},
   "outputs": [],
   "source": [
    "# Select police data between 2019-01-01 and 2020-12-31\n",
    "police_data_COVID = police_data_cleaned[(police_data_cleaned['offense_start_date_cleaned'] >= datetime.strptime('2019-01-01', '%Y-%m-%d')) & (police_data_cleaned['offense_start_date_cleaned'] <= datetime.strptime('2020-12-31', '%Y-%m-%d'))]\n",
    "\n",
    "# Remove crime_against_category, mcpp, and offense columns that are not needed for 5-2 analysis\n",
    "police_data_COVID = police_data_COVID.drop(columns=['crime_against_category', 'mcpp', 'offense'])\n",
    "\n",
    "#print(police_data_COVID.head(10))\n",
    "\n",
    "# Print all unique offense_parent_group String values\n",
    "#print(police_data_COVID['offense_parent_group'].unique())"
   ]
  },
  {
   "cell_type": "code",
   "execution_count": 7,
   "id": "b2a6a0c4-cbea-4488-8295-82680398b233",
   "metadata": {
    "tags": []
   },
   "outputs": [],
   "source": [
    "# Create zero-filled dataframe that holds the count of each offense_parent_group\n",
    "index = pd.Series(pd.date_range(datetime.strptime('2019-01', '%Y-%m'), datetime.strptime('2021-01', '%Y-%m'), freq='M'))\n",
    "index = index.dt.strftime('%Y-%m')\n",
    "\n",
    "# Use unique value of offense_parent_group (in police data) as column header\n",
    "columns = police_data_COVID['offense_parent_group'].unique()\n",
    " \n",
    "COVID_offence_tally = pd.DataFrame(index=index, columns=columns)\n",
    "COVID_offence_tally = COVID_offence_tally.fillna(0)\n",
    "\n",
    "# Using code above, the data frame's index is the month; hence we need to create another month columns (whose values are year and month only)\n",
    "COVID_offence_tally['Month'] = COVID_offence_tally.index\n",
    "COVID_offence_tally['Month'] = COVID_offence_tally['Month'].astype('string')\n",
    "\n",
    "#print(COVID_offence_tally.dtypes)\n",
    "#print(COVID_offence_tally)"
   ]
  },
  {
   "cell_type": "code",
   "execution_count": null,
   "id": "116d31ea-c866-4654-aefb-42a10a70d281",
   "metadata": {
    "tags": []
   },
   "outputs": [],
   "source": [
    "# Tally number of offences\n",
    "\n",
    "limit = 10\n",
    "count = 0\n",
    "\n",
    "for index, row in police_data_COVID.iterrows():\n",
    "    date = row['offense_start_date_cleaned']\n",
    "    one_offense = row['offense_parent_group']\n",
    "    month_string = date.strftime(\"%Y-%m\")\n",
    "    #print(month_string + ' ' + one_offense)\n",
    "    COVID_offence_tally.loc[COVID_offence_tally['Month'] == month_string, one_offense] += 1\n",
    "    count = count + 1\n",
    "    \n",
    "#print('Now printing the monthly offence tally')\n",
    "#print(COVID_offence_tally)\n",
    "\n",
    "# Make a .csv file so end users can use a software of their choice to produce different plots.\n",
    "COVID_offence_tally.to_csv('Question 1 out.csv', index=False)  "
   ]
  },
  {
   "cell_type": "markdown",
   "id": "1d1b1149-5282-4e11-8827-91852a26a304",
   "metadata": {},
   "source": [
    "Convert `COVID_offence_tally` to long-format to assist ploting in **4-3**"
   ]
  },
  {
   "cell_type": "code",
   "execution_count": null,
   "id": "fd9dd565-a2bb-42b3-aee4-b398e1917cab",
   "metadata": {},
   "outputs": [],
   "source": [
    "COVID_offence_tally_long = pd.melt(frame=COVID_offence_tally, id_vars=['Month'], var_name=\"Offence Type\", value_name=\"Count\")\n",
    "COVID_offence_tally_long['Month']= pd.to_datetime(COVID_offence_tally_long['Month'], format='%Y-%m')\n",
    "#print(COVID_offence_tally_long)"
   ]
  },
  {
   "cell_type": "code",
   "execution_count": null,
   "id": "52093c1a-3e6a-4e14-86c9-d9585263c4e5",
   "metadata": {},
   "outputs": [],
   "source": [
    "(\n",
    "    ggplot(COVID_offence_tally_long, aes(x='Month', y='Count', color='Offence Type')) +\n",
    "    geom_line(size = 1)+\n",
    "    #facet_grid('Offence Type ~ .', scales = \"free\") +\n",
    "    labs(fill=\"\") + \n",
    "    theme(figure_size=(10, 8)) +\n",
    "    geom_point(aes(shape='Offence Type', color='Offence Type'), size=3) +\n",
    "    # Add shape variations to distinguish lines with similar colors.\n",
    "    scale_shape_manual(values=[1, 4, 9, 2, 5, 10, 3, 6, 11, 7, 8, 1, 4, 9, 2, 5, 10, 3, 6, 11, 7, 8, 1, 4, 9, 2, 5, 10, 3, 6, 11, 7, 8])\n",
    ")"
   ]
  },
  {
   "cell_type": "markdown",
   "id": "0cfcb98e-505e-4972-bb35-b94f08aa92cc",
   "metadata": {},
   "source": [
    "### 5-3: compare person and property offences\n",
    "\n",
    "While researching the Seattle Crime overview, I found [this US News article](https://realestate.usnews.com/places/washington/seattle/crime) describing that Seattle has \"a \\[relatively\\] lower crime rate than similarly sized metro areas\"; it has a **higher rate of crimes against property** and a **lower rate of violent crimes** (against people), comparing to the national average.\n",
    "\n",
    "For this question, I will tally the total occurrence of time against person and property in every calendar day. By conducting a student t-test on two sets of data, I can determine whether it's statistically significant to conclude whether crimes against person happen more frequently than crimes against property. "
   ]
  },
  {
   "cell_type": "code",
   "execution_count": null,
   "id": "f4a83463-5159-4bcd-a033-906b8a721452",
   "metadata": {},
   "outputs": [],
   "source": [
    "# 5-3 only uses offense_start_date_cleaned and crime_against_category\n",
    "police_data_person_property = police_data_cleaned[['offense_start_date_cleaned', 'crime_against_category']]\n",
    "\n",
    "# Only keep rows which crime_against_category is either PERSON or PROPERTY (df.loc[].....?)\n",
    "police_data_person_property = police_data_person_property[(police_data_person_property['crime_against_category'] == 'PERSON') | (police_data_person_property['crime_against_category'] == 'PROPERTY')]\n",
    "\n",
    "print(police_data_person_property.head(10))\n",
    "\n",
    "# Print all unique offense_parent_group String values\n",
    "#print(police_data_COVID['offense_parent_group'].unique())"
   ]
  },
  {
   "cell_type": "code",
   "execution_count": null,
   "id": "9f055522-3ea5-4ebd-8d41-002c37ba382d",
   "metadata": {
    "tags": []
   },
   "outputs": [],
   "source": [
    "# Create zero-filled dataframe that holds the count of each crime_against_category (from 2008-01-01 to today)\n",
    "index = pd.Series(pd.date_range(datetime.strptime('2008-01', '%Y-%m'), datetime.now(), freq='D'))\n",
    "index = index.dt.strftime('%Y-%m-%d')\n",
    "\n",
    "# Use unique value of crime_against_category (in police data) as column header\n",
    "columns = police_data_person_property['crime_against_category'].unique()\n",
    " \n",
    "person_property_offense_tally = pd.DataFrame(index=index, columns=columns)\n",
    "person_property_offense_tally = person_property_offense_tally.fillna(0)\n",
    "\n",
    "# Using code above, the data frame's index is the day; hence we need to create another month columns (whose values are year and month only)\n",
    "person_property_offense_tally['Date'] = person_property_offense_tally.index\n",
    "person_property_offense_tally['Date'] = person_property_offense_tally['Date'].astype('string')\n",
    "\n",
    "#print(person_property_offense_tally.dtypes)\n",
    "print(person_property_offense_tally)"
   ]
  },
  {
   "cell_type": "code",
   "execution_count": null,
   "id": "f4388a73-9c21-4a07-adc5-00210eab721f",
   "metadata": {
    "tags": []
   },
   "outputs": [],
   "source": [
    "# Tally number of offences\n",
    "\n",
    "limit = 10\n",
    "count = 0\n",
    "\n",
    "for index, row in police_data_person_property.iterrows():\n",
    "    date = row['offense_start_date_cleaned']\n",
    "    one_offense = row['crime_against_category']\n",
    "    date_string = date.strftime(\"%Y-%m-%d\")\n",
    "    #print(date_string + ' ' + one_offense)\n",
    "    person_property_offense_tally.loc[person_property_offense_tally['Date'] == date_string, one_offense] += 1\n",
    "    count = count + 1\n",
    "    \n",
    "#print('Now printing the daily person/property offense tally')\n",
    "print(person_property_offense_tally)\n",
    "\n",
    "# Make a .csv file so end users can use a software of their choice to produce different plots.\n",
    "person_property_offense_tally.to_csv('Question 2 out.csv', index=False)  "
   ]
  },
  {
   "cell_type": "markdown",
   "id": "a2a96fec-6f80-4ced-9d9d-fc3c753f989b",
   "metadata": {},
   "source": [
    "### 5-4: find most frequent offenses in University District\n",
    "\n",
    "After filtering the city district to University, I will tally the number of crime occurrences by type in a day, and record three (or five) most frequent types. Then, I will compile daily top lists together and determine which daily top crime types happen in the most number of days. To make it easier for readers to understand results, I will use a bar graph and table to visually it.\n",
    "\n",
    "More information on Seattle Police Department's Micro-Community Policing Plans (the crime dataset use this region plan to denote incident district) can be found [here](https://www.seattle.gov/police/information-and-data/mcpp-about), including geographical boundaries of each MCPP district."
   ]
  },
  {
   "cell_type": "markdown",
   "id": "38db9eba-03aa-4a53-b792-73842f94240d",
   "metadata": {},
   "source": [
    "### 5-5: homocide counts every year\n",
    "First, I will filter the entire dataset to keep only the homicide crime listing, and then tally the annual number of homicide crimes. Finally, I will make a time series graph to visually present the number of homicide crimes, where readers can visually observe whether Seattle has a record high homicide crime count in 2020."
   ]
  },
  {
   "cell_type": "code",
   "execution_count": null,
   "id": "34145b66-3218-4894-8ec7-3b0cdb4c270d",
   "metadata": {
    "tags": []
   },
   "outputs": [],
   "source": [
    "# 5-5 only uses offense_start_date_cleaned and offense_parent_group (where Homicide offenses are described)\n",
    "police_data_homicide = police_data_cleaned[['offense_start_date_cleaned', 'offense_parent_group']]\n",
    "\n",
    "# Only keep rows which crime_against_category is either PERSON or PROPERTY (df.loc[].....?)\n",
    "police_data_homicide = police_data_homicide[police_data_homicide['offense_parent_group'] == \"HOMICIDE OFFENSES\"]\n",
    "\n",
    "print(police_data_homicide.head(10))\n",
    "\n",
    "# Print all unique offense_parent_group String values\n",
    "#print(police_data_COVID['offense_parent_group'].unique())"
   ]
  },
  {
   "cell_type": "code",
   "execution_count": null,
   "id": "11e46982-3bb6-4e58-8090-bee95c345ffc",
   "metadata": {},
   "outputs": [],
   "source": [
    "# Create zero-filled dataframe that holds the count of each crime_against_category (from 2008-01-01 to today)\n",
    "index = pd.Series(pd.date_range(datetime.strptime('2008', '%Y'), datetime.now(), freq='Y'))\n",
    "index = index.dt.strftime('%Y')\n",
    "\n",
    "# Use unique value of crime_against_category (in police data) as column header\n",
    "columns = ['Homicide Frequency']\n",
    "annual_homicide_tally = pd.DataFrame(index=index, columns=columns)\n",
    "annual_homicide_tally = annual_homicide_tally.fillna(0)\n",
    "\n",
    "# Using code above, the data frame's index is the day; hence we need to create another month columns (whose values are year and month only)\n",
    "annual_homicide_tally['Year'] = annual_homicide_tally.index\n",
    "annual_homicide_tally['Year'] = annual_homicide_tally['Year'].astype('string')\n",
    "\n",
    "#print(person_property_offense_tally.dtypes)\n",
    "print(annual_homicide_tally)"
   ]
  },
  {
   "cell_type": "code",
   "execution_count": null,
   "id": "5b2ac0c5-d598-46e0-90e1-9803fbe8ee9e",
   "metadata": {
    "tags": []
   },
   "outputs": [],
   "source": [
    "# Tally number of offences\n",
    "\n",
    "limit = 10\n",
    "count = 0\n",
    "\n",
    "for index, row in police_data_homicide.iterrows():\n",
    "    date = row['offense_start_date_cleaned']\n",
    "    year_string = date.strftime(\"%Y\")\n",
    "    #print(date_string + ' ' + one_offense)\n",
    "    annual_homicide_tally.loc[annual_homicide_tally['Year'] == year_string, 'Homicide Frequency'] += 1\n",
    "    count = count + 1\n",
    "    \n",
    "#print('Now printing the daily person/property offense tally')\n",
    "print(annual_homicide_tally)\n",
    "\n",
    "# Make a .csv file so end users can use a software of their choice to produce different plots.\n",
    "annual_homicide_tally.to_csv('Question 4 out.csv', index=False)"
   ]
  },
  {
   "cell_type": "code",
   "execution_count": null,
   "id": "02b7fb89-7492-4c54-85a8-259818812949",
   "metadata": {},
   "outputs": [],
   "source": [
    "Plot annual homicide offense frequency bar graph"
   ]
  },
  {
   "cell_type": "code",
   "execution_count": null,
   "id": "21f8b657-7083-4e71-bafa-c0ed66941060",
   "metadata": {},
   "outputs": [],
   "source": [
    "(\n",
    "    ggplot(annual_homicide_tally, aes(x='Year', y='Homicide Frequency')) +\n",
    "    geom_bar(stat=\"identity\", fill=\"steelblue\")+\n",
    "    geom_text(aes(label='Homicide Frequency'), va='top', color=\"white\", size=10)+\n",
    "    theme_minimal()\n",
    ")"
   ]
  },
  {
   "cell_type": "markdown",
   "id": "41e46a04-b568-406a-bd09-40bc21be86c8",
   "metadata": {},
   "source": [
    "## Ethical consideration\n",
    "\n",
    "* Crime classification is subjective, and one person may categorize a crime differently than another person.\n",
    "* Crime offenses that are subsequently acquitted may not be removed from this dataset, resulting in a higher number of crime entries than actual prosecutable offenses."
   ]
  },
  {
   "cell_type": "markdown",
   "id": "64b57776-a8d2-419a-b6d2-203ba8e1df51",
   "metadata": {},
   "source": [
    "## Unknown and dependencies:\n",
    "\n",
    "* The Seattle Crime dataset may not contain all crimes that actually happened in the city. The website stated that only finalized (UCR approved) reports are published in this dataset. Those in draft, awaiting approval, or completed after the update may be published at a later date.\n",
    "* When crime investigation proceeds further, crime entries may be retroactively added, updated, or removed, which may result in change of historical data when readers re-run my Jupyter notebook program at a later date.\n",
    "* This dataset does not include committed crimes that are not yet discovered/found out by any police department.\n",
    "* Many crimes are reported after crime offenses, and the offense date & time may not be accurate.\n",
    "* University District covers a larger area than the UW itself (even though this district is very related to the UW community), and some readers may disagree with this geographical scope."
   ]
  }
 ],
 "metadata": {
  "kernelspec": {
   "display_name": "Python 3",
   "language": "python",
   "name": "python3"
  },
  "language_info": {
   "codemirror_mode": {
    "name": "ipython",
    "version": 3
   },
   "file_extension": ".py",
   "mimetype": "text/x-python",
   "name": "python",
   "nbconvert_exporter": "python",
   "pygments_lexer": "ipython3",
   "version": "3.8.8"
  }
 },
 "nbformat": 4,
 "nbformat_minor": 5
}
