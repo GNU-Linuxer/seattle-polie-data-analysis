{
 "cells": [
  {
   "cell_type": "markdown",
   "id": "21ec8bbf-9310-4ecf-9363-d1ca37f5cccc",
   "metadata": {},
   "source": [
    "# Seattle City Crime Data Analysis"
   ]
  },
  {
   "cell_type": "markdown",
   "id": "d7ec217a-3d87-444e-a77e-9356ebe33a3a",
   "metadata": {},
   "source": [
    "## 1: Introduction and Motivation\n",
    "\n",
    "As an international student in University of Washington, I am curious about the City of Seattle and would love to explore different city areas. By learning HCDE 410 and other data science classes in the UW, I am equipped with skills to analyze datasets and generate insights from them. Since I'm concerned about the city's public safety, I want to analyze its crime data to understand frequent crime types, in order to make me educated when going to different places. Research Question 2 is inspired from my past street-walking experience, especially when I'm walking in unfamiliar areas, as I'm concerned about whether it's more likely that a person attacks me or just wants my property (no personal harm if I comply).\n",
    "\n",
    "Since I primarily reside in University District while studying in the UW, I want to learn the crime distribution in this area through study Question 3. Before COVID-19 pandemic that moves all UW classes online, I occasionally studied in UW libraries, where I discovered posters (from UW Police department) that urge students to protect their valuable items and never leave them unattended. In addition, I occasionally saw bikes (on bike rack) with missing parts, implying that an offender stole usable parts on students' bikes. "
   ]
  },
  {
   "cell_type": "markdown",
   "id": "226240df-a9c8-4e37-ba0c-f7e9b3752dc3",
   "metadata": {},
   "source": [
    "## 2: Background and/or Related Work\n",
    "\n",
    "While researching the Seattle Crime overview, I found [this US News article](https://realestate.usnews.com/places/washington/seattle/crime) describing that Seattle has \"a \\[relatively\\] lower crime rate than similarly sized metro areas\"; it has a higher rate of crimes against property and a lower rate of violent crimes (against people), comparing to the national average. Also, I learned that Seattle has a record high number of murder incidents in 2020, according to this [King5 news article](https://www.king5.com/article/news/local/seattle-police-reports-49-murders-setting-pace-for-record-homicides/281-c32aa4ae-ef9c-485f-a9d8-1113b491fc9d). Within the University of Washington; UW Police websites allow students to register [bicycles](https://bikeindex.org/uw) and [electronics](http://police.uw.edu/community-engagement/loveyourstuff/ereg/), and contents in these web pages describe the prevalence of thefts on them. Hence I assume that robbery/theft are the most frequent offense in the University District. Regarding how COVID-19 Pandemic affecting crime distribution, I remembered that attacks against people increases partially due to economic depression and discrimination against east Asian people (alleged origin of COVID-19).\n",
    "\n",
    "I have adjusted my research question 2, 3, and 4 according to my background research, as I want to use the actual crime data from Seattle Police Department to verify claims made in these articles. In addition, I can learn whether robbery/theft crimes is the most frequent offense in the University District, and whether this crime is noticeably more frequent than the second most popular crime in this UW area. All in all, I hope my final project is related to HCDE 410's lecture regarding open data science where readers can use raw data to audit claims made in analytical reports."
   ]
  },
  {
   "cell_type": "markdown",
   "id": "93a35347-7067-48e3-9c74-ed3ba2882cd6",
   "metadata": {},
   "source": [
    "## 3: Research questions\n",
    "\n",
    "1. Do certain types of crime offenses have become more popular after the onset of COVID-19 Pandemic?\n",
    "2. Do crimes against a person happen more frequently than crimes against property in Seattle, generally?\n",
    "3. Within the University District, what are most frequent crime offenses.\n",
    "4. Does Seattle have a record high homicide crime counts in 2020?\n",
    "\n",
    "### Hypothesis:\n",
    "\n",
    "1. Personal assault crimes have become more popular after the onset of COVID-19 Pandemic (beginning 2020-01-01).\n",
    "2. I hypothesize that crime against property happens more frequently than crimes against a person. \n",
    "3. Robbery/theft are the most frequent offenses in the University District.\n",
    "4. Seattle does have a record high homicide crime count in 2020.\n"
   ]
  },
  {
   "cell_type": "markdown",
   "id": "87ece38d-3a0f-45b8-8fa0-f74a2775d004",
   "metadata": {},
   "source": [
    "## 4: Data Source\n",
    "\n",
    "**Seattle City Crime Data**\n",
    "\n",
    "This data is provided by the City of Seattle Police Department documents city-wide crime data since 2008. It is comprehensive, including offense time, type of crime, large neighborhood district, providing me many ways to analyze the crime distribution in Seattle.\n",
    "\n",
    "[Dataset source](https://data.seattle.gov/Public-Safety/SPD-Crime-Data-2008-Present/tazs-3rd5) (Time Range: from 2008 to present)\n",
    "\n",
    "License: Public Domain"
   ]
  },
  {
   "cell_type": "markdown",
   "id": "cbdee958-eed6-457b-b5a8-73952e1c519b",
   "metadata": {},
   "source": [
    "Import necessary Python libraries for this data analysis"
   ]
  },
  {
   "cell_type": "code",
   "execution_count": 1,
   "id": "8d0c037f-4f56-4d24-ae1c-a466f55b25f6",
   "metadata": {},
   "outputs": [],
   "source": [
    "import pandas as pd\n",
    "import numpy as np\n",
    "from IPython.display import display\n",
    "from datetime import datetime, timedelta"
   ]
  },
  {
   "cell_type": "code",
   "execution_count": 2,
   "id": "da68960e-b6a3-4788-8b98-57cb497fdb2d",
   "metadata": {},
   "outputs": [],
   "source": [
    "#ggplot2 in R is a very intuitive and easy to understand graph programming syntax (and there're just a lot of articles on ggplot due to its popularity)\n",
    "#One noticeable limitation for plotnine it that it could not draw pie chart (it lacks coord_polar implementation)\n",
    "\n",
    "#!conda install plotnine # if plotnine is not already installed\n",
    "#!pip install plotnine # if plotnine is not already installed\n",
    "from plotnine import * #plotnine contains ggplot function\n",
    "# from plotnine.data import mpg #import ggplot's sample data (such as mpg), useful for debugging"
   ]
  },
  {
   "cell_type": "markdown",
   "id": "fade7d86-0fc0-4883-8690-1a5710f04e93",
   "metadata": {},
   "source": [
    "Make an API call to download the Seattle City Crime dataset directly from the data source, and import it to this Jupyter notebook."
   ]
  },
  {
   "cell_type": "code",
   "execution_count": null,
   "id": "257edba5-a6e2-4979-af6e-d16f7efdc6ba",
   "metadata": {},
   "outputs": [
    {
     "name": "stdout",
     "output_type": "stream",
     "text": [
      "Downloading .csv from https://data.seattle.gov/resource/tazs-3rd5.csv?$limit=10000000&$select=offense_start_datetime,crime_against_category,offense_parent_group,offense,mcpp&$$app_token=SGxXejSEoCpKVTLb0IzwU4X8w\n"
     ]
    }
   ],
   "source": [
    "#the URL we're retrieving the data from.\n",
    "api_endpoint = \"https://data.seattle.gov/resource/tazs-3rd5.csv\"\n",
    "\n",
    "#the parameters we're passing to the API, to specify what subset of data we want.\n",
    "api_parameters = \"?$limit=10000000&\" # Increase limit to 10000000, increase this number if dataset has more available rows \n",
    "api_parameters = api_parameters + \"$select=offense_start_datetime,crime_against_category,offense_parent_group,offense,mcpp&\" # Only select columns that I need for my data analysis\n",
    "\n",
    "#If you don't provide a App token, then your request is rate limited (each request have no number of row limitation for this dataset)\n",
    "#token.txt contains the alpha-numeric token only (no space), and we only need App token (NOT Secret Token, and NOT API key)\n",
    "\n",
    "#check whether App token exists in ./token.txt , and read the App token if this token file exists (will simply ignore reading App token if the token.txt does not exist)\n",
    "from pathlib import Path\n",
    "if Path('token.txt').is_file():\n",
    "    api_parameters = api_parameters + \"$$app_token=\" + open(\"token.txt\", \"r\").readline()\n",
    "\n",
    "print('Downloading .csv from ' + api_endpoint + api_parameters)\n",
    "police_data = pd.read_csv(api_endpoint + api_parameters)"
   ]
  },
  {
   "cell_type": "markdown",
   "id": "6877bb18-bb3b-4924-b0ae-7cba486215bb",
   "metadata": {},
   "source": [
    "View a snippit of this police data."
   ]
  },
  {
   "cell_type": "code",
   "execution_count": null,
   "id": "38819bdd-0947-4024-87cf-f1dcc625fdb8",
   "metadata": {},
   "outputs": [],
   "source": [
    "print(police_data.head(3))"
   ]
  },
  {
   "cell_type": "markdown",
   "id": "813e57d7-df1a-4bc9-b0ac-950c7ab2a1b0",
   "metadata": {},
   "source": [
    "## 5: Data Analysis and Methodology\n",
    "\n",
    "### Pre-analysis data cleaning\n",
    "\n",
    "Performing this data cleaning process (ends before Research Question 1 code) is **mandatory**, as data analysis code for all research questions depend on the cleaned dataset generated in this sub-section.\n",
    "\n",
    "First, I will convert date string (from all four datasets) to Python datetime object so we can parse and compare dates more efficiently.\n",
    "\n",
    "Also, I decide to remove `offense_start_datetime` before 2008-01-01, as the website stated that only data that's recorded on and after 2008 is present in dataset. Since crimes happened earlier than 2008 may be entered to this dataset, such number of crimes may be noticeably less than actual number of incidents, which would make my analysis (on crime incidents happened before 2008) biased. In fact, we only remove 2644 cases dated before 2008-01-01 (904314 crimes in the entire dataset, minus 901670 crimes that will be used in this project, calculated on 2021-05-27)."
   ]
  },
  {
   "cell_type": "code",
   "execution_count": null,
   "id": "7030f042-d325-4363-9219-b52b05b16bff",
   "metadata": {
    "tags": []
   },
   "outputs": [],
   "source": [
    "# Drop mili-seconds due to Python's Date format does not recognize 3-digit mili-second (it only recognize micro-second)\n",
    "police_data['offense_start_date_cleaned'] = pd.to_datetime(police_data['offense_start_datetime'], format='%Y-%m-%dT%H:%M:%S') \n",
    "\n",
    "# Drop offense_start_datetime before 2008-01-01\n",
    "police_data_cleaned = police_data[police_data['offense_start_date_cleaned'] >= datetime.strptime('2008-01-01', '%Y-%m-%d')]\n",
    "\n",
    "# Drop pre-parsed date time column\n",
    "police_data_cleaned = police_data_cleaned.drop(columns=['offense_start_datetime'])\n",
    "\n",
    "print(police_data_cleaned.head(3))"
   ]
  },
  {
   "cell_type": "markdown",
   "id": "753e1a0c-d762-426b-b616-97fc892d4ea0",
   "metadata": {},
   "source": [
    "Below is a helper function that moves a specific column (of a dataframe) to the first column (existing columns will shift 1 place to the right). Having this function is useful to organize dataframe columns that're newly created to the first column, so that generated .csv files is clean."
   ]
  },
  {
   "cell_type": "code",
   "execution_count": null,
   "id": "6fad5180-c8f4-4150-b246-ea5acfbdca6c",
   "metadata": {},
   "outputs": [],
   "source": [
    "# data_frame is a reference to the data frame object; col_name is a string that describe the column name (on the header)\n",
    "def move_df_col_to_first(data_frame, col_name):\n",
    "    first_col = data_frame.pop(col_name)\n",
    "    data_frame.insert(0, col_name, first_col)"
   ]
  },
  {
   "cell_type": "markdown",
   "id": "2c9b16ab-9875-4553-8ef9-9d7b7405ca9e",
   "metadata": {},
   "source": [
    "### Research Question 1: increased crime type after the onset of COVID-19 Pandemic\n",
    "\n",
    "To determine whether certain types of crimes will become more popular after the onset of COVID-19 Pandemic, I first tally the monthly total of every crime type from 2019-01-01 to 2020-12-31. Then, I will make a time series graph of all crime types to visually inspect the growing trend of certain crimes after 2020-01-01.\n",
    "\n",
    "In this analysis, I decide to use `offense_parent_group` instead of a more detailed `offense`, as the number of unique `offense` is more than the capacity limit of a presentable time-series graph (for aesthetic purposes)."
   ]
  },
  {
   "cell_type": "code",
   "execution_count": null,
   "id": "f0514f94-b027-4791-9db2-7a9ab3baba31",
   "metadata": {},
   "outputs": [],
   "source": [
    "# Select police data between 2019-01-01 and 2020-12-31\n",
    "police_data_COVID = police_data_cleaned[(police_data_cleaned['offense_start_date_cleaned'] >= datetime.strptime('2019-01-01', '%Y-%m-%d')) & (police_data_cleaned['offense_start_date_cleaned'] <= datetime.strptime('2020-12-31', '%Y-%m-%d'))]\n",
    "\n",
    "# Remove crime_against_category, mcpp, and offense columns that are not needed for 5-2 analysis\n",
    "police_data_COVID = police_data_COVID.drop(columns=['crime_against_category', 'mcpp', 'offense'])"
   ]
  },
  {
   "cell_type": "markdown",
   "id": "cf6efb29-4acd-4c3f-be5d-2767dd2b0da9",
   "metadata": {},
   "source": [
    "Create a dataframe that holds the monthly total of all crime offenses types."
   ]
  },
  {
   "cell_type": "code",
   "execution_count": null,
   "id": "b2a6a0c4-cbea-4488-8295-82680398b233",
   "metadata": {
    "tags": []
   },
   "outputs": [],
   "source": [
    "# Create zero-filled dataframe that holds the count of each offense_parent_group\n",
    "index = pd.Series(pd.date_range(datetime.strptime('2019-01', '%Y-%m'), datetime.strptime('2021-01', '%Y-%m'), freq='M'))\n",
    "index = index.dt.strftime('%Y-%m')\n",
    "\n",
    "# Use unique value of offense_parent_group (in police data) as column header\n",
    "columns = police_data_COVID['offense_parent_group'].unique()\n",
    " \n",
    "COVID_offense_tally = pd.DataFrame(index=index, columns=columns)\n",
    "COVID_offense_tally = COVID_offense_tally.fillna(0)\n",
    "\n",
    "# Using code above, the data frame's index is the month; hence we need to create another month columns (whose values are year and month only)\n",
    "COVID_offense_tally['Month'] = COVID_offense_tally.index\n",
    "COVID_offense_tally['Month'] = COVID_offense_tally['Month'].astype('string')"
   ]
  },
  {
   "cell_type": "markdown",
   "id": "36f99734-e03f-4460-9fef-a70615df3d70",
   "metadata": {},
   "source": [
    "Tally the number of monthly crime offenses by `offense_parent_group`, and export the count to `Question 1 out.csv`."
   ]
  },
  {
   "cell_type": "code",
   "execution_count": null,
   "id": "116d31ea-c866-4654-aefb-42a10a70d281",
   "metadata": {
    "tags": []
   },
   "outputs": [],
   "source": [
    "for index, row in police_data_COVID.iterrows():\n",
    "    date = row['offense_start_date_cleaned']\n",
    "    one_offense = row['offense_parent_group']\n",
    "    month_string = date.strftime(\"%Y-%m\")\n",
    "    #print(month_string + ' ' + one_offense)\n",
    "    COVID_offense_tally.loc[COVID_offense_tally['Month'] == month_string, one_offense] += 1\n",
    "\n",
    "move_df_col_to_first(COVID_offense_tally, 'Month')\n",
    "        \n",
    "#print('Now printing the monthly offense tally')\n",
    "print(COVID_offense_tally.head(3))\n",
    "\n",
    "# Make a .csv file so end users can use a software of their choice to produce different plots.\n",
    "COVID_offense_tally.to_csv('Question 1 out.csv', index=False)  "
   ]
  },
  {
   "cell_type": "markdown",
   "id": "1d1b1149-5282-4e11-8827-91852a26a304",
   "metadata": {},
   "source": [
    "Convert `COVID_offense_tally` to long-format to assist plotting."
   ]
  },
  {
   "cell_type": "code",
   "execution_count": null,
   "id": "fd9dd565-a2bb-42b3-aee4-b398e1917cab",
   "metadata": {},
   "outputs": [],
   "source": [
    "COVID_offense_tally_long = pd.melt(frame=COVID_offense_tally, id_vars=['Month'], var_name=\"Offense Type\", value_name=\"Monthly Count\")\n",
    "COVID_offense_tally_long['Month']= pd.to_datetime(COVID_offense_tally_long['Month'], format='%Y-%m')\n",
    "#print(COVID_offense_tally_long)"
   ]
  },
  {
   "cell_type": "markdown",
   "id": "173a1cc8-a3f5-4d17-b25f-569a20b01f9a",
   "metadata": {},
   "source": [
    "Plot a time series graph denoting monthly total count of each offense, and save the plot as `Plot_1_1.png`"
   ]
  },
  {
   "cell_type": "code",
   "execution_count": null,
   "id": "52093c1a-3e6a-4e14-86c9-d9585263c4e5",
   "metadata": {
    "tags": []
   },
   "outputs": [],
   "source": [
    "plot1_1 = (\n",
    "    ggplot(data=COVID_offense_tally_long, mapping=aes(x='Month', y='Monthly Count', color='Offense Type')) +\n",
    "    geom_line(size = 1)+\n",
    "    #facet_grid('offense Type ~ .', scales = \"free\") +\n",
    "    labs(fill=\"\") + \n",
    "    theme(figure_size=(10, 8)) +\n",
    "    geom_point(aes(shape='Offense Type', color='Offense Type'), size=3) +\n",
    "    geom_vline(xintercept='2020-01-01') + \n",
    "    # Add shape variations to distinguish lines with similar colors.\n",
    "    scale_shape_manual(values=[1, 4, 9, 2, 5, 10, 3, 6, 11, 7, 8, 1, 4, 9, 2, 5, 10, 3, 6, 11, 7, 8, 1, 4, 9, 2, 5, 10, 3, 6, 11, 7, 8])\n",
    ")\n",
    "\n",
    "print(plot1_1)\n",
    "plot1_1.save(filename = 'Plot_1_1.png', dpi=600)"
   ]
  },
  {
   "cell_type": "markdown",
   "id": "b8a2e2c2-7acf-43cf-9c23-69c37d0b0fc5",
   "metadata": {},
   "source": [
    "Since readers can only easily read the trend of top **7** most frequent crimes, I will make a separate graph of other less prevalent crimes, and save the plot as `Plot_1_2.png`"
   ]
  },
  {
   "cell_type": "code",
   "execution_count": null,
   "id": "5a6c4c56-de33-48c8-8d1f-1ea3817b53d0",
   "metadata": {},
   "outputs": [],
   "source": [
    "frequent_crimes = ['FRAUD OFFENSES', 'LARCENY-THEFT', 'ASSAULT OFFENSES', 'BURGLARY/BREAKING&ENTERING', 'DESTRUCTION/DAMAGE/VANDALISM OF PROPERTY', 'MOTOR VEHICLE THEFT', 'TRESPASS OF REAL PROPERTY']\n",
    "COVID_offense_tally_long_other_crimes=COVID_offense_tally_long[~COVID_offense_tally_long['Offense Type'].isin(frequent_crimes)]"
   ]
  },
  {
   "cell_type": "code",
   "execution_count": null,
   "id": "e7335857-bf8a-4a6f-bf71-8d3451ecff26",
   "metadata": {
    "tags": []
   },
   "outputs": [],
   "source": [
    "plot1_2 = (\n",
    "    ggplot(data=COVID_offense_tally_long_other_crimes, mapping=aes(x='Month', y='Monthly Count', color='Offense Type')) +\n",
    "    geom_line(size = 1)+\n",
    "    labs(fill=\"\") + \n",
    "    theme(figure_size=(10, 10)) +\n",
    "    # You can make the graph longer by commenting the command above and un-comment below command, but minor crimes fluctuates with no obvious trend soon after 2020-01-01\n",
    "    #theme(figure_size=(10, 50)) +\n",
    "    geom_vline(xintercept='2020-01-01') + \n",
    "    geom_point(aes(shape='Offense Type', color='Offense Type'), size=3) +\n",
    "    # Add shape variations to distinguish lines with similar colors.\n",
    "    scale_shape_manual(values=[1, 4, 9, 2, 5, 10, 3, 6, 11, 7, 8, 1, 4, 9, 2, 5, 10, 3, 6, 11, 7, 8, 1, 4, 9, 2, 5, 10, 3, 6, 11, 7, 8])\n",
    ")\n",
    "\n",
    "print(plot1_2)\n",
    "plot1_2.save(filename = 'Plot_1_2.png', dpi=600)"
   ]
  },
  {
   "cell_type": "markdown",
   "id": "0cfcb98e-505e-4972-bb35-b94f08aa92cc",
   "metadata": {},
   "source": [
    "### Research Question 2: compare person and property offenses\n",
    "\n",
    "While researching the Seattle Crime overview, I found [this US News article](https://realestate.usnews.com/places/washington/seattle/crime) describing that Seattle has \"a \\[relatively\\] lower crime rate than similarly sized metro areas\"; it has a **higher rate of crimes against property** and a **lower rate of violent crimes** (against people), comparing to the national average.\n",
    "\n",
    "For this question, I will tally the total offenses against person and property in every calendar day. By conducting a student t-test on two sets of data (property vs. person offenses daily counts), I can determine whether it's statistically significant to conclude whether crimes against person happen more frequently than crimes against property. "
   ]
  },
  {
   "cell_type": "code",
   "execution_count": null,
   "id": "f4a83463-5159-4bcd-a033-906b8a721452",
   "metadata": {},
   "outputs": [],
   "source": [
    "# 5-3 only uses offense_start_date_cleaned and crime_against_category\n",
    "police_data_person_property = police_data_cleaned[['offense_start_date_cleaned', 'crime_against_category']]\n",
    "\n",
    "# Only keep rows which crime_against_category is either PERSON or PROPERTY\n",
    "police_data_person_property = police_data_person_property[(police_data_person_property['crime_against_category'] == 'PERSON') | (police_data_person_property['crime_against_category'] == 'PROPERTY')]"
   ]
  },
  {
   "cell_type": "markdown",
   "id": "2923e8db-8359-4e3f-80c5-c097648f1988",
   "metadata": {},
   "source": [
    "Create a dataframe that holds the daily total of crime against property and crime against person."
   ]
  },
  {
   "cell_type": "code",
   "execution_count": null,
   "id": "9f055522-3ea5-4ebd-8d41-002c37ba382d",
   "metadata": {
    "tags": []
   },
   "outputs": [],
   "source": [
    "# Create zero-filled dataframe that holds the count of each crime_against_category (from 2008-01-01 to yesterday, as today's data is not uploaded until tomorrow)\n",
    "index = pd.Series(pd.date_range(datetime.strptime('2008-01', '%Y-%m'), (datetime.today()- timedelta(days=2)), freq='D'))\n",
    "index = index.dt.strftime('%Y-%m-%d')\n",
    "\n",
    "# Use unique value of crime_against_category (in police data) as column header\n",
    "columns = police_data_person_property['crime_against_category'].unique()\n",
    " \n",
    "person_property_offense_tally = pd.DataFrame(index=index, columns=columns)\n",
    "person_property_offense_tally = person_property_offense_tally.fillna(0)\n",
    "\n",
    "# Using code above, the data frame's index is the day; hence we need to create another month columns (whose values are year and month only)\n",
    "person_property_offense_tally['Date'] = person_property_offense_tally.index\n",
    "person_property_offense_tally['Date'] = person_property_offense_tally['Date'].astype('string')"
   ]
  },
  {
   "cell_type": "markdown",
   "id": "825a0a94-598d-459e-8044-63e4d42750ff",
   "metadata": {},
   "source": [
    "Tally the number of daily crime offenses by `crime_against_category'`, and export the count to `Question 2 out.csv`."
   ]
  },
  {
   "cell_type": "code",
   "execution_count": null,
   "id": "f4388a73-9c21-4a07-adc5-00210eab721f",
   "metadata": {
    "tags": []
   },
   "outputs": [],
   "source": [
    "# Tally number of offenses\n",
    "for index, row in police_data_person_property.iterrows():\n",
    "    date = row['offense_start_date_cleaned']\n",
    "    one_offense = row['crime_against_category']\n",
    "    date_string = date.strftime(\"%Y-%m-%d\")\n",
    "    #print(date_string + ' ' + one_offense)\n",
    "    person_property_offense_tally.loc[person_property_offense_tally['Date'] == date_string, one_offense] += 1\n",
    "    \n",
    "move_df_col_to_first(person_property_offense_tally, 'Date')    \n",
    "\n",
    "#print('Now printing the daily person/property offense tally')\n",
    "print(person_property_offense_tally)\n",
    "\n",
    "# Make a .csv file so end users can use a software of their choice to produce different plots.\n",
    "person_property_offense_tally.to_csv('Question 2 out.csv', index=False)"
   ]
  },
  {
   "cell_type": "markdown",
   "id": "dd5acbb2-7ce9-4da7-8b46-a7bdcd184055",
   "metadata": {},
   "source": [
    "Conduct a two-sample student-t test to verify whether it's statistically significant to conclude that Seattle has more property offense vs person offense everyday.\n",
    "\n",
    "* Null hypothesis: Seattle's daily property offense and person offense counts are the same.\n",
    "\n",
    "* Alternative hypothesis: Seattle's daily property offense count is greater than daily person offense count."
   ]
  },
  {
   "cell_type": "code",
   "execution_count": null,
   "id": "ce55c087-5f25-4de5-81fe-3e90458b4221",
   "metadata": {},
   "outputs": [],
   "source": [
    "from scipy import stats\n",
    "\n",
    "# Documentation of 2-sample t-test that I'm using: https://docs.scipy.org/doc/scipy/reference/generated/scipy.stats.ttest_ind.html#scipy.stats.ttest_ind\n",
    "t_statistics, p_value = stats.ttest_ind(person_property_offense_tally['PROPERTY'], person_property_offense_tally['PERSON'], equal_var = True, alternative='greater')\n",
    "\n",
    "print(\"t-statistics score is: \" + str(t_statistics))\n",
    "print(\"P value is: \" + str(p_value))"
   ]
  },
  {
   "cell_type": "markdown",
   "id": "ea2bf8a8-e606-46e3-8294-bc9868d2e137",
   "metadata": {},
   "source": [
    "Convert to long-format dataframe and a plot time series graph, in order to visually understand the statistic significance between daily number of two types of crime categories, and save this graph to `Plot_2.png`."
   ]
  },
  {
   "cell_type": "code",
   "execution_count": null,
   "id": "2ad30bba-ffe1-4c1a-aab8-ba80d279df5e",
   "metadata": {},
   "outputs": [],
   "source": [
    "person_property_offense_tally_long = pd.melt(frame=person_property_offense_tally, id_vars=['Date'], var_name=\"Offense Category\", value_name=\"Count\")\n",
    "person_property_offense_tally_long['Date']= pd.to_datetime(person_property_offense_tally_long['Date'], format='%Y-%m-%d')\n",
    "#print(person_property_offense_tally_long)"
   ]
  },
  {
   "cell_type": "code",
   "execution_count": null,
   "id": "9a80ec1f-02e3-43b5-b6d0-566a7c0cc18c",
   "metadata": {
    "tags": []
   },
   "outputs": [],
   "source": [
    "plot2=(\n",
    "    ggplot(person_property_offense_tally_long, aes(x='Date', y='Count', color='Offense Category')) +\n",
    "    geom_line(size = 1)+\n",
    "    labs(fill=\"\") + \n",
    "    theme(figure_size=(10, 8))\n",
    ")\n",
    "\n",
    "print(plot2)\n",
    "plot2.save(filename = 'Plot_2.png', dpi=600)"
   ]
  },
  {
   "cell_type": "markdown",
   "id": "a2a96fec-6f80-4ced-9d9d-fc3c753f989b",
   "metadata": {},
   "source": [
    "### Research Question 3: find most frequent offenses in University District\n",
    "\n",
    "After filtering the city district to University, I will tally the number of crime occurrences by `offense_parent_group` in a day, and record the most frequent type(s). Then, I will compile daily top lists together and determine which daily top crime types happen in the most number of days. To make it easier for readers to understand results, I will use a bar graph to visually it.\n",
    "\n",
    "Note: the most frequent type(s) of offense will account for ties if there are no more than 3 ties.\n",
    "\n",
    "More information on Seattle Police Department's Micro-Community Policing Plans (the crime dataset use this region plan to denote incident district) can be found [here](https://www.seattle.gov/police/information-and-data/mcpp-about), including geographical boundaries of each MCPP district."
   ]
  },
  {
   "cell_type": "markdown",
   "id": "d73381e4-4da8-4e56-8a04-f5e425d1cb06",
   "metadata": {},
   "source": [
    "Select only crime entries in the University District."
   ]
  },
  {
   "cell_type": "code",
   "execution_count": null,
   "id": "3c7cd15e-9790-44bd-81fc-1f999ee4e0d0",
   "metadata": {},
   "outputs": [],
   "source": [
    "# Uncomment this to list all Seattle Police Department Micro-Community Policing Plan values\n",
    "#print(police_data_cleaned['mcpp'].unique())\n",
    "\n",
    "university_police_data = police_data_cleaned[police_data_cleaned['mcpp'] == 'UNIVERSITY']\n",
    "\n",
    "# Remove crime_against_category, mcpp, and offense columns that are no longer needed for 5-3 analysis\n",
    "university_police_data = university_police_data.drop(columns=['crime_against_category', 'mcpp', 'offense'])"
   ]
  },
  {
   "cell_type": "markdown",
   "id": "6eeee593-ac7b-442c-886a-fff4484762e3",
   "metadata": {},
   "source": [
    "Create a dataframe that holds daily total of crime counts in the University District."
   ]
  },
  {
   "cell_type": "code",
   "execution_count": null,
   "id": "d8a98252-2638-4585-a89f-5f5e1a99788a",
   "metadata": {
    "tags": []
   },
   "outputs": [],
   "source": [
    "# Create zero-filled dataframe that holds the count of each offense_parent_group (from 2008-01-01 to yesterday, as today's data is not uploaded until tomorrow)\n",
    "index = pd.Series(pd.date_range(datetime.strptime('2008-01', '%Y-%m'), (datetime.today()- timedelta(days=2)), freq='D'))\n",
    "index = index.dt.strftime('%Y-%m-%d')\n",
    "\n",
    "# Use unique value of offense_parent_group (in police data) as column header\n",
    "columns = university_police_data['offense_parent_group'].unique()\n",
    " \n",
    "university_offense_tally = pd.DataFrame(index=index, columns=columns)\n",
    "university_offense_tally = university_offense_tally.fillna(0)\n",
    "\n",
    "# Using code above, the data frame's index is the day; hence we need to create another month columns (whose values are year and month only)\n",
    "university_offense_tally['Date'] = university_offense_tally.index\n",
    "university_offense_tally['Date'] = university_offense_tally['Date'].astype('string')\n",
    "\n",
    "#print(university_offense_tally)"
   ]
  },
  {
   "cell_type": "markdown",
   "id": "820cbaf0-9595-4ecd-88f6-8ed056e557aa",
   "metadata": {},
   "source": [
    "Tally the number of daily crime offenses in the University District"
   ]
  },
  {
   "cell_type": "code",
   "execution_count": null,
   "id": "578a6a27-6c12-4583-8448-c3aba8e37d80",
   "metadata": {
    "tags": []
   },
   "outputs": [],
   "source": [
    "for index, row in university_police_data.iterrows():\n",
    "    \n",
    "    date = row['offense_start_date_cleaned']\n",
    "    one_offense = row['offense_parent_group']\n",
    "    date_string = date.strftime(\"%Y-%m-%d\")\n",
    "    #print(date_string + ' ' + one_offense)\n",
    "    university_offense_tally.loc[university_offense_tally['Date'] == date_string, one_offense] += 1"
   ]
  },
  {
   "cell_type": "markdown",
   "id": "1e677c26-e33a-412f-8b29-56b4454cea17",
   "metadata": {},
   "source": [
    "Find top offense(s) for every calendar day. If there's a tie, record all offenses unless there are more than 3 ties."
   ]
  },
  {
   "cell_type": "code",
   "execution_count": null,
   "id": "5a9ffd42-a543-45e2-ad47-fd8ea8c19ccc",
   "metadata": {},
   "outputs": [],
   "source": [
    "# Drop Date column in original daily tally to facilitate number comparison\n",
    "university_offense_tally = university_offense_tally.drop(columns=['Date'])"
   ]
  },
  {
   "cell_type": "code",
   "execution_count": null,
   "id": "31a43d2d-6a69-44ff-bb1a-ba415678e834",
   "metadata": {},
   "outputs": [],
   "source": [
    "university_offense_tally_freq=[]\n",
    "\n",
    "# Find most daily crime. If there's a tie, add everything in unless there are more than 3 ties (in this case, add nothing)\n",
    "for index, row in university_offense_tally.iterrows():\n",
    "    #print(row)\n",
    "    highest_value = row.max()\n",
    "    #print(highest_value)\n",
    "    \n",
    "    # Find all crime names that has the highest crime count\n",
    "    most_frequent_crime = row[row==highest_value].index.tolist()\n",
    "    \n",
    "    # Ignore this date when we have too many ties\n",
    "    if len(most_frequent_crime) <=3:\n",
    "        #print(most_frequent_crime)\n",
    "        university_offense_tally_freq.extend(most_frequent_crime)"
   ]
  },
  {
   "cell_type": "markdown",
   "id": "b25b97c5-0637-4b2f-9a1c-c0ac7b6e4053",
   "metadata": {},
   "source": [
    "Create a data frame to show frequency count for top offenses every day, and export the count to `Question 3 out.csv`."
   ]
  },
  {
   "cell_type": "code",
   "execution_count": null,
   "id": "77eff6de-e430-48e8-839f-f0cd9d7f0fd1",
   "metadata": {
    "tags": []
   },
   "outputs": [],
   "source": [
    "import collections\n",
    "freq_dictionary = dict(collections.Counter(university_offense_tally_freq))\n",
    "\n",
    "university_offense_tally_freq_df=pd.DataFrame(list(freq_dictionary.items()), columns = ['Offense', 'Day Counts'])\n",
    "print(university_offense_tally_freq_df)\n",
    "\n",
    "# Make a .csv file so end users can use a software of their choice to produce different plots.\n",
    "university_offense_tally_freq_df.to_csv('Question 3 out.csv', index=False)"
   ]
  },
  {
   "cell_type": "markdown",
   "id": "d57fc184-6aee-4731-89d4-0ee13ee95437",
   "metadata": {},
   "source": [
    "Select top 10 most-frequent offenses and wrap texts for offense type (text strings) to aid plotting."
   ]
  },
  {
   "cell_type": "code",
   "execution_count": null,
   "id": "d2ec0e20-4094-4db7-8ddc-fd4fa2abcbd5",
   "metadata": {},
   "outputs": [],
   "source": [
    "university_offense_tally_freq_df=university_offense_tally_freq_df.nlargest(10,'Day Counts')\n",
    "university_offense_tally_freq_df['Offense']=university_offense_tally_freq_df['Offense'].str.wrap(10, expand_tabs = False, replace_whitespace = True, drop_whitespace = True, break_long_words = True, break_on_hyphens = True)"
   ]
  },
  {
   "cell_type": "markdown",
   "id": "aac1dcb0-8344-4a60-9a91-dbbb6d37e8d0",
   "metadata": {},
   "source": [
    "Plotting most frequent offenses in the University District, and save this plot to `Plot_3.png`."
   ]
  },
  {
   "cell_type": "code",
   "execution_count": null,
   "id": "c39d2b93-12f6-4c1b-968b-1de7096bfbc4",
   "metadata": {},
   "outputs": [],
   "source": [
    "plot3=(\n",
    "    ggplot(data=university_offense_tally_freq_df, mapping=aes(x='Offense', y='Day Counts')) +\n",
    "    geom_bar(stat=\"identity\", fill=\"steelblue\")+\n",
    "    geom_text(aes(label='Day Counts'), va='top', color=\"black\", size=10, nudge_y=300)+\n",
    "    theme_minimal() + \n",
    "    theme(figure_size=(15, 5))\n",
    ")\n",
    "\n",
    "print(plot3)\n",
    "plot3.save(filename = 'Plot_3.png', dpi=600)"
   ]
  },
  {
   "cell_type": "markdown",
   "id": "38db9eba-03aa-4a53-b792-73842f94240d",
   "metadata": {},
   "source": [
    "### Research Question 4: homicide counts every year\n",
    "First, I will filter the entire dataset to keep only the homicide crime listings, and then tally the annual number of homicide crimes. Finally, I will make a bar chart to visually present the number of annual homicide crimes counts, where readers can visually observe whether Seattle has a record high homicide crime count in 2020."
   ]
  },
  {
   "cell_type": "code",
   "execution_count": null,
   "id": "34145b66-3218-4894-8ec7-3b0cdb4c270d",
   "metadata": {
    "tags": []
   },
   "outputs": [],
   "source": [
    "# 5-5 only uses offense_start_date_cleaned and offense_parent_group (where Homicide offenses are described)\n",
    "police_data_homicide = police_data_cleaned[['offense_start_date_cleaned', 'offense_parent_group']]\n",
    "\n",
    "# Only keep rows which offense_parent_group is HOMICIDE OFFENSES\n",
    "police_data_homicide = police_data_homicide[police_data_homicide['offense_parent_group'] == \"HOMICIDE OFFENSES\"]"
   ]
  },
  {
   "cell_type": "markdown",
   "id": "ff8b4313-9366-41a6-a4b0-a235c5758335",
   "metadata": {},
   "source": [
    "Create a dataframe that holds the annual total of homicide offenses."
   ]
  },
  {
   "cell_type": "code",
   "execution_count": null,
   "id": "11e46982-3bb6-4e58-8090-bee95c345ffc",
   "metadata": {},
   "outputs": [],
   "source": [
    "# Create zero-filled dataframe that holds the count of annual HOMICIDE OFFENSES (from 2008 to the past year)\n",
    "index = pd.Series(pd.date_range(datetime.strptime('2008', '%Y'), datetime.now(), freq='Y'))\n",
    "index = index.dt.strftime('%Y')\n",
    "\n",
    "columns = ['Homicide Frequency']\n",
    "annual_homicide_tally = pd.DataFrame(index=index, columns=columns)\n",
    "annual_homicide_tally = annual_homicide_tally.fillna(0)\n",
    "\n",
    "# Create a Year column so that we can tally HOMICIDE OFFENSES counts by year\n",
    "annual_homicide_tally['Year'] = annual_homicide_tally.index\n",
    "annual_homicide_tally['Year'] = annual_homicide_tally['Year'].astype('string')\n",
    "\n",
    "#print(person_property_offense_tally.dtypes)\n",
    "#print(annual_homicide_tally)"
   ]
  },
  {
   "cell_type": "markdown",
   "id": "4d679262-485f-4d83-b587-8233ebe8b1c9",
   "metadata": {},
   "source": [
    "Tally the number of annual homicide offenses, and export the count to `Question 4 out.csv`."
   ]
  },
  {
   "cell_type": "code",
   "execution_count": null,
   "id": "5b2ac0c5-d598-46e0-90e1-9803fbe8ee9e",
   "metadata": {
    "tags": []
   },
   "outputs": [],
   "source": [
    "# Tally number of homicide offenses every year\n",
    "for index, row in police_data_homicide.iterrows():\n",
    "    date = row['offense_start_date_cleaned']\n",
    "    year_string = date.strftime(\"%Y\")\n",
    "    #print(date_string + ' ' + one_offense)\n",
    "    annual_homicide_tally.loc[annual_homicide_tally['Year'] == year_string, 'Homicide Frequency'] += 1\n",
    "    \n",
    "move_df_col_to_first(annual_homicide_tally, 'Year')   \n",
    "    \n",
    "#print('Now printing the daily homicide offense tally')\n",
    "print(annual_homicide_tally)\n",
    "\n",
    "# Make a .csv file so end users can use a software of their choice to produce different plots.\n",
    "annual_homicide_tally.to_csv('Question 4 out.csv', index=False)"
   ]
  },
  {
   "cell_type": "markdown",
   "id": "af46f4f0-b58d-44c4-a3b6-61c29b95a31d",
   "metadata": {},
   "source": [
    "Plot annual homicide offense frequency bar graph, and save this plot to `Plot_4.png`.\n",
    "\n",
    "Please note: the current year is not included in the frequency bar graph, as historical data encompasses all 12-months of data, while the current year data is less than 12 months."
   ]
  },
  {
   "cell_type": "code",
   "execution_count": null,
   "id": "21f8b657-7083-4e71-bafa-c0ed66941060",
   "metadata": {},
   "outputs": [],
   "source": [
    "plot4=(\n",
    "    ggplot(data=annual_homicide_tally, mapping=aes(x='Year', y='Homicide Frequency')) +\n",
    "    geom_bar(stat=\"identity\", fill=\"steelblue\")+\n",
    "    geom_text(aes(label='Homicide Frequency'), va='top', color=\"white\", size=10)+\n",
    "    theme_minimal()\n",
    ")\n",
    "\n",
    "print(plot4)\n",
    "plot4.save(filename = 'Plot_4.png', dpi=600)"
   ]
  },
  {
   "cell_type": "markdown",
   "id": "a1eef002-4467-4f92-afeb-a5bee8dfc138",
   "metadata": {},
   "source": [
    "## 6: Findings and Results\n",
    "\n",
    "* Research Question 1: **Fraud offense** (large increase), burglary, vandalism of property, robbery, and weapon law violation have increased after 2020-01-01\n",
    "* Research Question 2: Crime against property is noticeably more frequent than crime against person (t-statistics: 241. ; p-value: 0.0)\n",
    "* Research Question 3: Larceny/theft, burglary, and assault offenses are popular in the University District\n",
    "* Research Question 4: Seattle do have a record-high homicide offense in 2020 (55 offenses total)\n"
   ]
  },
  {
   "cell_type": "markdown",
   "id": "41e46a04-b568-406a-bd09-40bc21be86c8",
   "metadata": {},
   "source": [
    "## 7: Discussion\n",
    "\n",
    "### Question 1:\n",
    "\n",
    "Initially, I hypothesized that personal assault crimes would increase after 2020-01-01, but the Seattle crime dataset shows that the number of monthly assault offenses does not change.\n",
    "\n",
    "There was a record-high 6513 fraud offenses in May, 2020; the number is much larger than any other offenses at any time. Observing the sharp increase of fraud offense after 2020-01-01, the time when COVID-19 Pandemic had become evident in the US, I remembered how scammers attempts to file fake unemployment benefit claims using other people's identity, according to a newsletter in the UW Information School mailing list. While researching more news articles that analyzes this situation, I discovered [a Deloitte article](https://www2.deloitte.com/ch/en/pages/financial-advisory/articles/covid-19-operating-in-the-new-normal-fraud-risk.html) describing the US economic depression, the increased unemployment rate, and the lack of information security during companies' transition to remote working all provide excellent opportunities for perpetrators to commit fraud schemes. \n",
    "\n",
    "Political events, such as George Floyd's death and subsequent violent protests, contribute to other property-destruction related offenses after 2020-01-01, and people's financial instability due to job loss might encourage them to commit property thefts, resulting a higher overall crime offenses. \n",
    "\n",
    "### Question 2:\n",
    "\n",
    "It is statistically significant to conclude that (in most calendar days) total crimes against property outnumbered crimes against person, which confirms [this US News article's analysis](https://realestate.usnews.com/places/washington/seattle/crime) on Seattle crime distribution. The original crime dataset categorize fraud, bribery and several offenses that are loosely related to robbery/theft as crimes against property. Some readers (including me) consider crimes against property as robbery-related offenses that damages/steals civilians' personal properties.\n",
    "\n",
    "### Question 3:\n",
    "\n",
    "Data analysis confirms with my hypothesis that larceny/robbery crimes happen most frequently in the University District (there are 3346 days having highest number of larceny/robbery offense counts), and this offense type outnumbers other offenses.\n",
    "\n",
    "### Question 4:\n",
    "\n",
    "Analyzing original dataset regarding Seattle's annual homicide counts reveals that Seattle **do** have a record-high homicide count in 2020, which confirms with [King5 news article's](https://www.king5.com/article/news/local/seattle-police-reports-49-murders-setting-pace-for-record-homicides/281-c32aa4ae-ef9c-485f-a9d8-1113b491fc9d) claim. \n",
    "\n",
    "### Ethical consideration\n",
    "\n",
    "* Crime classification is subjective, and one person may categorize a crime differently than another person.\n",
    "* Crime offenses that are subsequently acquitted may not be removed from this dataset, resulting in a higher number of crime entries than actual prosecutable offenses.\n",
    "* Civil right activists may question Seattle Police Department's biased policing against people with color, although I could not find firm evidences that support this claim.\n",
    "\n",
    "### Unknown and dependencies:\n",
    "\n",
    "* The Seattle Crime dataset may not contain all crimes that actually happened in the city. The website stated that only finalized (UCR approved) reports are published in this dataset. Those in draft, awaiting approval, or completed after the update may be published at a later date.\n",
    "* When crime investigation proceeds further, crime entries may be retroactively added, updated, or removed, which may result in change of historical data when readers re-run my Jupyter notebook program at a later date.\n",
    "* This dataset does not include committed crimes that are not yet discovered/found out by any police department.\n",
    "* Many crimes are reported after crime offenses, and the offense date & time may not be accurate.\n",
    "* University District covers a larger area than the UW itself (even though this district is very related to the UW community), and some readers may disagree with this geographical scope set by Seattle Police Department."
   ]
  },
  {
   "cell_type": "markdown",
   "id": "f73b102f-f17a-47f6-8524-8f555a0bda5a",
   "metadata": {},
   "source": [
    "## 8: Conclusion\n",
    "\n",
    "Analyzing the Seattle Crime Dataset (from Seattle Police Department) informed me the overall distribution of crime activities in Seattle and University of Washington. Additionally, findings from this analysis project makes me more vigilant on protecting my property while going out to different locations in Seattle (especially when I am walking on the street in unfamiliar locations). Result from this data analysis encourages readers to take extra care on their properties while in Seattle, and especially be vigilant on fraud attempts. Moreover, these findings helps people in the University of Washington area to aware thefts on their laptop computers and other valuable items. Finally, observing a record-high homicide offense counts in 2020 encouraged me to consider possible causes of this social issue. "
   ]
  },
  {
   "cell_type": "code",
   "execution_count": null,
   "id": "311c4fb2-9947-4d35-8f88-ac2ade869e03",
   "metadata": {},
   "outputs": [],
   "source": []
  }
 ],
 "metadata": {
  "kernelspec": {
   "display_name": "Python 3",
   "language": "python",
   "name": "python3"
  },
  "language_info": {
   "codemirror_mode": {
    "name": "ipython",
    "version": 3
   },
   "file_extension": ".py",
   "mimetype": "text/x-python",
   "name": "python",
   "nbconvert_exporter": "python",
   "pygments_lexer": "ipython3",
   "version": "3.8.8"
  }
 },
 "nbformat": 4,
 "nbformat_minor": 5
}
