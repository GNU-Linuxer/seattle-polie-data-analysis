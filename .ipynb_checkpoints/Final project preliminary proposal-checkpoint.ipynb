{
 "cells": [
  {
   "cell_type": "markdown",
   "id": "8605c437-3305-49a8-ab33-88e59eebe892",
   "metadata": {},
   "source": [
    "# Final Project Preliminary Proposal:"
   ]
  },
  {
   "cell_type": "markdown",
   "id": "21ec8bbf-9310-4ecf-9363-d1ca37f5cccc",
   "metadata": {},
   "source": [
    "# Seattle City Crime Data Analysis"
   ]
  },
  {
   "cell_type": "markdown",
   "id": "d7ec217a-3d87-444e-a77e-9356ebe33a3a",
   "metadata": {},
   "source": [
    "## Motivation\n",
    "\n",
    "As an international student in University of Washington, I am curious about the City of Seattle and would love to explore different city areas. By learning HCDE 410 and other data science classes in the UW, I am equipped with skills to analyze datasets and generate insights from them. Since I'm concerned about the city's public safety, I want to analyze its crime data to understand frequent crime types, in order to make me educated when going to different places.\n",
    "\n",
    "Since I primarily reside in University District while studying in the UW, I want to learn the crime distribution in this area through study question 3. Before COVID-19 pandemic that moves all UW classes online, I occationally study in UW libraries, where I discovered posters (from UW Police department) that urge students to protect their valuable items and never leave them unattended. In addition, I occationally saw bikes (on bike rack) with missing parts, implying that an offender stole usable parts on students' bikes. "
   ]
  },
  {
   "cell_type": "markdown",
   "id": "87ece38d-3a0f-45b8-8fa0-f74a2775d004",
   "metadata": {},
   "source": [
    "## Data Source\n",
    "\n",
    "**Seattle City Crime Data**\n",
    "\n",
    "This data is provided by City of Seattle Police Department documents city-wide crime data since 2008. It is comprehensive, including offence time, type of crime, large neighborhood district, providing me many ways to analyze the crime distribution in Seattle.\n",
    "\n",
    "[Dataset source](https://data.seattle.gov/Public-Safety/SPD-Crime-Data-2008-Present/tazs-3rd5) (Time Range: from 2008 to present)\n",
    "\n",
    "License: Public Domain"
   ]
  },
  {
   "cell_type": "markdown",
   "id": "41e46a04-b568-406a-bd09-40bc21be86c8",
   "metadata": {},
   "source": [
    "## Ethical consideration\n",
    "\n",
    "* Crime classification is subjective, and one person may categorize a crime differently than another person.\n",
    "* Crime offences that are subsequently acquitted may not be removed from this dataset, resulting a higher number of crime entries than actual prosecutable offences."
   ]
  },
  {
   "cell_type": "markdown",
   "id": "64b57776-a8d2-419a-b6d2-203ba8e1df51",
   "metadata": {},
   "source": [
    "## Unknown and dependencies:\n",
    "\n",
    "* The Seattle Crime dataset may not contain all crimes that actually happened in the city. The website stated that only finalized (UCR approved) reports . Those in draft, awaiting approval, or completed after the update may be published at a later date.\n",
    "* When crime investigation proceed further, crime entries may be retroactively added, updated, or removed, which may result in change of historical data when readers re-run my Jupyter notebook program at a later date.\n",
    "* Many crimes are reported after crime offences, and the offence time may not be accurate.\n",
    "* University District covers a larger area than the UW itself (even though this district is very related to UW community), and some reader may disagree with this geographical scope."
   ]
  },
  {
   "cell_type": "markdown",
   "id": "93a35347-7067-48e3-9c74-ed3ba2882cd6",
   "metadata": {},
   "source": [
    "## Research questions\n",
    "\n",
    "1. Do certain types of crime offences have become more popular after the onset of COVID-19 Pandemic?\n",
    "2. Do we observe more crime during nighttime compare to daytime?\n",
    "3. Within University District, what are most frequent crime offences.\n",
    "\n",
    "**Hypothesis:**\n",
    "\n",
    "1. Personal assult crimes have become more popular.\n",
    "2. We would expect more crime during nighttime.\n",
    "3. Robbery/theft are the most frequent offence in University District.\n"
   ]
  },
  {
   "cell_type": "markdown",
   "id": "226240df-a9c8-4e37-ba0c-f7e9b3752dc3",
   "metadata": {},
   "source": [
    "## Background and/or Related Work:\n",
    "\n",
    "\n",
    "UW Police websites allows students to register [bicycles](https://bikeindex.org/uw) and [electronics](http://police.uw.edu/community-engagement/loveyourstuff/ereg/), and contents in these web pages describe the prevalence of thefts on them. Hence I assume that robbery/theft are the most frequent offence in the University District."
   ]
  },
  {
   "cell_type": "markdown",
   "id": "38db9eba-03aa-4a53-b792-73842f94240d",
   "metadata": {},
   "source": [
    "## Methodology\n",
    "\n",
    "**Research Question 1:**\n",
    "\n",
    "To determine whether certain types of crimes that become more popular onset of COVID-19 Pandemic, I first tally the monthly total of every crime type from 2019-06-01 to 2020-05-31. Then, I will make a time series graph of all crime type to visually inspect the growing trend of certain crimes after 2020-01-01.\n",
    "\n",
    "**Research Question 2:**\n",
    "\n",
    " \n",
    "\n",
    "**Step 4:**\n",
    "\n",
    "To answer research question \\#2, I will repeat the above data processing and graphs **separately** for data dated before 2020-1-1 and data dated on and after 2020-1-1, for the sake to compare how the advent of COVID-19 affects the correlation between US stock market and cryptocurrency market.\n"
   ]
  }
 ],
 "metadata": {
  "kernelspec": {
   "display_name": "Python 3",
   "language": "python",
   "name": "python3"
  },
  "language_info": {
   "codemirror_mode": {
    "name": "ipython",
    "version": 3
   },
   "file_extension": ".py",
   "mimetype": "text/x-python",
   "name": "python",
   "nbconvert_exporter": "python",
   "pygments_lexer": "ipython3",
   "version": "3.8.8"
  }
 },
 "nbformat": 4,
 "nbformat_minor": 5
}
