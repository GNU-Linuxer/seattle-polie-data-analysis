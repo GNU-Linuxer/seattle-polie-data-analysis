{
 "cells": [
  {
   "cell_type": "markdown",
   "id": "21ec8bbf-9310-4ecf-9363-d1ca37f5cccc",
   "metadata": {},
   "source": [
    "# Compare the behavior of US Stock Market vs. Cryptocurrency Market"
   ]
  },
  {
   "cell_type": "markdown",
   "id": "d7ec217a-3d87-444e-a77e-9356ebe33a3a",
   "metadata": {},
   "source": [
    "## Motivation\n",
    "\n",
    "In another data analysis programming class (pre-COVID), I overheard a project group doing cryptocurrency vs some kind of US stock index. While I had not seen the actual analysis (nor the report), this topic was suddenly brought to my mind when COVID-19 pandemic resulted in economic recessions that led to strange economic behaviors at several points throughout this pandemic. \n",
    "\n",
    "During the COVID-19 pandemic, cryptocurrency popularity as an investment tool has noticeably increased, which is evident from the sheer increase of Bitcoin's value. Also, I presume that the US stock market was also affected by COVID-19 pandemic because the demand of many goods has changed noticeably and people refrain spending their money on non-essential goods/services.\n",
    "\n",
    "Hence, I decide to \"replicate\" the data analysis project. By incorporating data from pre-COVID time, I want to compare how the behavior/trend of US stock Indices (DJIA and S&P 500) correlates with cryptocurrency value in US Dollar (Bitcoin and Ethereum). For instance, what would be the implication of a rising US stock market on cryptocurrency."
   ]
  },
  {
   "cell_type": "markdown",
   "id": "87ece38d-3a0f-45b8-8fa0-f74a2775d004",
   "metadata": {},
   "source": [
    "## Selected Data\n",
    "\n",
    "Time range: 2016-04-01 to 2021-3-31\n",
    "\n",
    "### US Stock Index\n",
    "\n",
    "**Daily Value of Dow Jones Industrial Average index (DJIA)**\n",
    "\n",
    "The DJIA is a stock market index that tracks 30 well-established and most-influential companies trading in the US. This index value is representative to the stock movement of US large companies, which noticeably represent the US overall economy. ([Source](https://www.investopedia.com/terms/d/djia.asp))\n",
    "\n",
    "[Dataset source](https://fred.stlouisfed.org/series/DJIA) (The final project uses data dated 2011-05-16 to 2021-05-14)\n",
    "\n",
    "License: permission required to redistribute this dataset\n",
    "\n",
    "**Daily Value of Standard & Poors 500 index (S&P 500)**\n",
    "\n",
    "The S&P 500 is a stock market index that tracks 500 mostly-traded stock in the US. This index value is representative to the US stock movement as a whole. ([Source](https://www.investopedia.com/terms/s/sp500.asp))\n",
    "\n",
    "[Dataset source](https://fred.stlouisfed.org/series/SP500) (The final project uses data dated 2011-05-16 to 2021-05-14)\n",
    "\n",
    "License: permission required to redistribute this dataset\n",
    "\n",
    "**Note**: I received approval to use DJIA and S&P 500 dataset in my final project\n",
    "\n",
    "### Cryptocurrency\n",
    "\n",
    "**Daily Price for Bitcoin in US Dollar**\n",
    "\n",
    "Bitcoin is the most popular and influential cryptocurrency (by market capitalization) ([Source](https://www.investopedia.com/tech/most-important-cryptocurrencies-other-than-bitcoin/)), and its value has increased substantially at one point (from $6000 to $6000**0**). People can earn ten times of the invested money for 1 year, and they could not earn at such a high rate by investing in the US stock market. Hence Bitcoin attracts plenty of investors that would also drive its price up.\n",
    "\n",
    "[Dataset source](https://www.kaggle.com/kaushiksuresh147/top-10-cryptocurrencies-historical-dataset?select=Bitcoin+Historical+Data.csv) (The final project uses data dated 2010-07-18 to 2021-04-25)\n",
    "\n",
    "License: CC0: Public Domain\n",
    "\n",
    "**Daily Price for Ethereum in US Dollar**\n",
    "\n",
    "Ethereum is the second-most popular and influential cryptocurrency ([Source](https://www.investopedia.com/tech/most-important-cryptocurrencies-other-than-bitcoin/)). By adding the daily price of Ethereum in my data analysis, I hope to make my report more comprehensive.  \n",
    "\n",
    "[Dataset source](https://www.kaggle.com/kaushiksuresh147/top-10-cryptocurrencies-historical-dataset?select=Ethereum+Historical+Data.csv) (The final project uses data dated 2016-03-10 to 2021-04-25)\n",
    "\n",
    "License: CC0: Public Domain"
   ]
  },
  {
   "cell_type": "markdown",
   "id": "41e46a04-b568-406a-bd09-40bc21be86c8",
   "metadata": {},
   "source": [
    "## Ethical consideration\n",
    "\n",
    "* My data analysis only uses two most popular US stock indices and cryptocurrencies, and I assume that my chosen dataset is representative of the US stock market and cryptocurrency market. However, some readers may disagree with my choice because they’re more familiar with other stock indices and cryptocurrencies.\n",
    "* Correlation does not indicate a causation, as the US stock market and cryptocurrency market are not interrelated. Hence I could not say that a rising US stock market is causing Bitcoin to increase/decrease its value.\n",
    "* Readers of the dataset may over-rely my analysis result as their investment advice.\n",
    "* Since the DJIA and S&P 500 dataset can't be published in the GitHub repository, reviewers need to manually prepare the dataset from source websites."
   ]
  },
  {
   "cell_type": "markdown",
   "id": "64b57776-a8d2-419a-b6d2-203ba8e1df51",
   "metadata": {},
   "source": [
    "## Unknown and dependencies:\n",
    "\n",
    "* The US stock market is closed on Weekends and Holidays while cryptocurrency can be traded everyday 24/7. Hence I need to exclude Weekends and Holidays in the cryptocurrency market dataset, which may exclude some important trends happening in these excluded days.\n",
    "* Cryptocurrency market is more accessible than the US stock market; hence the cryptocurrency market may fluctuate more frequently than the US stock market, which would decrease the statistical analysis's accuracy.\n",
    "* Cryptocurrency can be traded to a currency other than the US Dollar, and the analysis result may differ if I use the daily price of a cryptocurrency in another currency (due to a latent variable of the other currency's behavior).\n",
    "* After running statistical analysis, the result may show little-to-no correlation between the US stock market and cryptocurrency market.\n",
    "* It may be necessary to separately analyze the relationship between US stock market and cryptocurrency before and after 2020-01-01, as the COVID-19 pandemic's resultant economic recession can noticeably alter the normal market behavior (pre-COVID).\n"
   ]
  },
  {
   "cell_type": "markdown",
   "id": "93a35347-7067-48e3-9c74-ed3ba2882cd6",
   "metadata": {},
   "source": [
    "## Research question\n",
    "\n",
    "1. How does the US Stock market trend correlates with the cryptocurrency market?\n",
    "2. How does the advent of COVID-19 Pandemic affects such correlation?\n",
    "\n",
    "**Hypothesis:**\n",
    "\n",
    "1. The US Stock market directly correlates with the cryptocurrency market.\n",
    "2. COVID-19 Pandemic will preserve the direction of correlation (direct or inverse correlation), but cryptocurrency will have a higher % change in its value than the US stock market.\n"
   ]
  },
  {
   "cell_type": "markdown",
   "id": "226240df-a9c8-4e37-ba0c-f7e9b3752dc3",
   "metadata": {},
   "source": [
    "## Background and/or Related Work:\n",
    "\n",
    "Analyzing the correlation between the US Stock market and cryptocurrency market is indeed a heated topic, as cryptocurrency (as an investment tool) is becoming more popular to the point that it poses challenges to the US Stock market's popularity. Since Bitcoin is the most influential cryptocurrency, most of the useful articles (that are worth including in this section) use Bitcoin instead of another cryptocurrency when comparing cryptocurrency to the US Stock market. However, articles provide conflicting viewpoints regarding such correlation. [This Forbes article](https://www.forbes.com/sites/investor/2020/05/13/bitcoin-and-stocks-correlation-reveal-a-secret/?sh=8a4a9ae12c2c) suggests a positive correlation between S&P 500 index and Bitcoin, and \"Bitcoin is going to be a valuable leading indicator for stocks\". In contrast, [a Market Watch article](https://www.marketwatch.com/story/heres-what-bitcoins-relationship-with-the-stock-market-and-gold-looks-like-over-the-past-90-days-2019-08-21) views that Bitcoin behaves similar to gold market rather than US Stock market (using an ETF Trust that follows S&P 500 index value), and Bitcoin behaves inversely to the US Stock market, which indicate that Bitcoin is \"potentially being used as a safe-haven asset during global uncertainty in traditional markets\".\n",
    "\n",
    "During the COVID-19 pandemic and its resultant economic recession, I observed how more and more people began to invest in cryptocurrency, even they're just experimenting this new investment vehicle. There's [one journal article](https://link.springer.com/article/10.1007/s40822-020-00154-1) that analyzes the relationship between COVID-19 and cryptocurrency value, it shows that cryptocurrencies value inversely correlates with COVID-19 cases and deaths during in early period of COVID-19 pandemic, but such correlation had become positive (direct correlation) at later pandemic stages. Bitcoin exhibits the strongest correlation value (both positively and negatively), while Ethereum and Ripple coins display a weaker correlation. The article's author hypothesized that people might invest in cryptocurrency in order to hedge economic uncertainties caused by COVID-19."
   ]
  },
  {
   "cell_type": "markdown",
   "id": "38db9eba-03aa-4a53-b792-73842f94240d",
   "metadata": {},
   "source": [
    "## Methodology\n",
    "\n",
    "Pre-analysis data cleaning:\n",
    "\n",
    "The time range is set to 2016-04-01 to 2021-3-31 (inclusive), so I will exclude data that's outside this range. Readers can manually adjust the start and end date to customize the data analysis.\n",
    "\n",
    "The US Stock market closes on weekends and selected holidays, while the cryptocurrency market is open every day. In cryptocurrencies datasets, I will exclude all dates that is not present in the DJIA and S&P 500 dataset (two dataset have exact date as shown in the code block below), so I can better compare the stock market and cryptocurrency market. Some readers might wonder that excluding stock holidays in cryptocurrency dataset will lead to inaccurate analysis, personally speaking, investors' speculations/decisions in stock holidays will be reflected as soon as US Stock trading resumes. For instance, the [sharp decrease](https://finance.yahoo.com/chart/BA#eyJpbnRlcnZhbCI6ImRheSIsInBlcmlvZGljaXR5IjoxLCJjYW5kbGVXaWR0aCI6NjUuMjA4MzMzMzMzMzMzMzMsImZsaXBwZWQiOmZhbHNlLCJ2b2x1bWVVbmRlcmxheSI6dHJ1ZSwiYWRqIjp0cnVlLCJjcm9zc2hhaXIiOnRydWUsImNoYXJ0VHlwZSI6ImxpbmUiLCJleHRlbmRlZCI6ZmFsc2UsIm1hcmtldFNlc3Npb25zIjp7fSwiYWdncmVnYXRpb25UeXBlIjoib2hsYyIsImNoYXJ0U2NhbGUiOiJsaW5lYXIiLCJwYW5lbHMiOnsiY2hhcnQiOnsicGVyY2VudCI6MSwiZGlzcGxheSI6IkJBIiwiY2hhcnROYW1lIjoiY2hhcnQiLCJpbmRleCI6MCwieUF4aXMiOnsibmFtZSI6ImNoYXJ0IiwicG9zaXRpb24iOm51bGx9LCJ5YXhpc0xIUyI6W10sInlheGlzUkhTIjpbImNoYXJ0Iiwi4oCMdm9sIHVuZHLigIwiXX19LCJsaW5lV2lkdGgiOjIsInN0cmlwZWRCYWNrZ3JvdW5kIjp0cnVlLCJldmVudHMiOnRydWUsImNvbG9yIjoiIzAwODFmMiIsInN0cmlwZWRCYWNrZ3JvdWQiOnRydWUsInJhbmdlIjp7ImR0TGVmdCI6IjIwMTktMDItMTlUMDg6MDA6MDAuMDAwWiIsImR0UmlnaHQiOiIyMDE5LTAzLTIzVDA2OjU5OjAwLjAwMFoiLCJwZXJpb2RpY2l0eSI6eyJpbnRlcnZhbCI6ImRheSIsInBlcmlvZCI6MX0sInBhZGRpbmciOjB9LCJldmVudE1hcCI6eyJjb3Jwb3JhdGUiOnsiZGl2cyI6dHJ1ZSwic3BsaXRzIjp0cnVlfSwic2lnRGV2Ijp7fX0sImN1c3RvbVJhbmdlIjp7InN0YXJ0IjoxNTUwNTYzMjAwMDAwLCJlbmQiOjE1NTMyMzgwMDAwMDB9LCJzeW1ib2xzIjpbeyJzeW1ib2wiOiJCQSIsInN5bWJvbE9iamVjdCI6eyJzeW1ib2wiOiJCQSIsInF1b3RlVHlwZSI6IkVRVUlUWSIsImV4Y2hhbmdlVGltZVpvbmUiOiJBbWVyaWNhL05ld19Zb3JrIn0sInBlcmlvZGljaXR5IjoxLCJpbnRlcnZhbCI6ImRheSJ9XSwic3R1ZGllcyI6eyLigIx2b2wgdW5kcuKAjCI6eyJ0eXBlIjoidm9sIHVuZHIiLCJpbnB1dHMiOnsiaWQiOiLigIx2b2wgdW5kcuKAjCIsImRpc3BsYXkiOiLigIx2b2wgdW5kcuKAjCJ9LCJvdXRwdXRzIjp7IlVwIFZvbHVtZSI6IiMwMGIwNjEiLCJEb3duIFZvbHVtZSI6IiNmZjMzM2EifSwicGFuZWwiOiJjaGFydCIsInBhcmFtZXRlcnMiOnsid2lkdGhGYWN0b3IiOjAuNDUsImNoYXJ0TmFtZSI6ImNoYXJ0IiwicGFuZWxOYW1lIjoiY2hhcnQifX19fQ--) in Boeing company's stock price on 2019-3-11 and 2019-3-12 was caused by Ethiopian Airlines Flight 302 accident on 2019-3-10 (which happens in the weekend) and immediate Boeing 737 MAX grounding.\n",
    "\n",
    "**Step 1:**\n",
    "\n",
    "By producing five time series graphs on two stock indices and two cryptocurrencies (their price), my report will help readers to visually understand four dataset's general distribution and trend. Four graphs will depict the actual value of the dataset with respect to time, and one graph will describe the % change (compared to previous day) of all four dataset with respect to time. I choose not to combine the time series graph of actual value with respect to time due to the significant difference of range (the y-value) of four datasets. For instance, the daily DJIA value has 5 digits and daily S&P 500 value has only 4 digits.\n",
    "\n",
    "**Step 2:**\n",
    "\n",
    "To investigate whether US Stock indices values relates to cryptocurrency price, I will calculate the correlation on the % change of one US Stock index vs one cryptocurrency price, which will results a total of **four** correlation analysis:\n",
    "* DJIA vs Bitcoin\n",
    "* DJIA vs Etherum\n",
    "* S&P 500 vs Bitcoin\n",
    "* S&P 500 vs Etherum\n",
    "\n",
    "The result of correlation analysis will be presented in a table format.\n",
    "\n",
    "Note: I decide not to conduct correlation analysis on the actual value US stock indices and cryptocurrencies' values, as these numbers fluctuate in different magnitudes for the same market change. For instance, the numeric change (the ∆) of the DJIA index is generally larger than S&P 500.\n",
    "\n",
    "**Step 3:**\n",
    "\n",
    "Since the general correlation (if exists) may not be informative, I will calculate the number of days that two US Stock indices and two cryptocurrencies increase/decrease by 5-9%, 10-14%, 15-19%, and over 20%. Performing this analysis allows readers to compare the overall increase/decrease of US Stock market and cryptocurrency market, and interpret whether the tallied value between number of days (of two markets) can be viewed as similar. I will produce a bar chart where x-axis is the percentage increase/decrease and y-axis is the number of days with such x-value. In addition, each bar color denotes one dataset.\n",
    "\n",
    "**Step 4:**\n",
    "\n",
    "To answer research question \\#2, I will repeat the above data processing and graphs **separately** for data dated before 2020-1-1 and data dated on and after 2020-1-1, for the sake to compare how the advent of COVID-19 affects the correlation between US stock market and cryptocurrency market.\n"
   ]
  },
  {
   "cell_type": "markdown",
   "id": "b10d31dc-7528-4679-8e64-9f5ed5c01400",
   "metadata": {},
   "source": [
    "\n",
    "This code block below will test whether DJIA.csv and SP500.csv downloaded from https://fred.stlouisfed.org/ contains same sets of dates."
   ]
  },
  {
   "cell_type": "code",
   "execution_count": 1,
   "id": "a123253f-5559-4283-8f1c-cf434291baca",
   "metadata": {},
   "outputs": [
    {
     "name": "stdout",
     "output_type": "stream",
     "text": [
      "         DATE      DJIA\n",
      "0  2011-05-16  12548.37\n",
      "1  2011-05-17  12479.58\n",
      "2  2011-05-18  12560.18\n",
      "         DATE    SP500\n",
      "0  2011-05-16  1329.47\n",
      "1  2011-05-17  1328.98\n",
      "2  2011-05-18  1340.68\n"
     ]
    }
   ],
   "source": [
    "import pandas as pd\n",
    "import numpy as np\n",
    "\n",
    "DJIA_complete = pd.read_csv ('data/DJIA.csv')\n",
    "# Drop non-trading days that are present in this .csv file (such as July 4 US National Day)\n",
    "DJIA_complete = DJIA_complete[DJIA_complete.DJIA != '.']\n",
    "print(DJIA_complete.head(3))\n",
    "\n",
    "SP500_complete = pd.read_csv ('data/SP500.csv')\n",
    "# Drop non-trading days that are present in this .csv file (such as July 4 US National Day)\n",
    "SP500_complete = SP500_complete[SP500_complete.SP500 != '.']\n",
    "print(SP500_complete.head(3))"
   ]
  },
  {
   "cell_type": "code",
   "execution_count": 2,
   "id": "b5b373e6-c616-4ac3-8f10-6632c71a8171",
   "metadata": {},
   "outputs": [
    {
     "name": "stdout",
     "output_type": "stream",
     "text": [
      "    DJIA_DATE      DJIA  SP500_DATE    SP500     result\n",
      "0  2011-05-16  12548.37  2011-05-16  1329.47  no change\n",
      "1  2011-05-17  12479.58  2011-05-17  1328.98  no change\n",
      "2  2011-05-18  12560.18  2011-05-18  1340.68  no change\n",
      "3  2011-05-19  12605.32  2011-05-19  1343.60  no change\n",
      "4  2011-05-20  12512.04  2011-05-20  1333.27  no change\n",
      "\n",
      "\n",
      "If the following dataframe output is empty, this means dates in DJIA.csv and SP500.csv are identical.\n",
      "Empty DataFrame\n",
      "Columns: [DJIA_DATE, DJIA, SP500_DATE, SP500, result]\n",
      "Index: []\n"
     ]
    }
   ],
   "source": [
    "DJIA_complete.rename(columns={'DATE': 'DJIA_DATE'}, inplace = True)\n",
    "SP500_complete.rename(columns={'DATE': 'SP500_DATE'}, inplace = True)\n",
    "\n",
    "# Code that tests two column's equality is adapted from https://stackoverflow.com/questions/52777668/python-pandas-compare-two-columns-for-equality-and-result-in-third-dataframe\n",
    "comparison_df = pd.concat([DJIA_complete, SP500_complete], axis=1)\n",
    "comparison_df['result'] = np.where(comparison_df['DJIA_DATE'] == comparison_df['SP500_DATE'], 'no change', 'changed')\n",
    "print(comparison_df.head(5))\n",
    "\n",
    "\n",
    "print('\\n\\nIf the following dataframe output is empty, this means dates in DJIA.csv and SP500.csv are identical.')\n",
    "print(comparison_df.loc[comparison_df['result'] == 'changed'])"
   ]
  },
  {
   "cell_type": "code",
   "execution_count": null,
   "id": "687057e7-39f6-41bf-9795-49de02bfc3b7",
   "metadata": {},
   "outputs": [],
   "source": []
  },
  {
   "cell_type": "code",
   "execution_count": null,
   "id": "674b460f-c052-4c86-8790-12abd7f69c98",
   "metadata": {},
   "outputs": [],
   "source": []
  }
 ],
 "metadata": {
  "kernelspec": {
   "display_name": "Python 3",
   "language": "python",
   "name": "python3"
  },
  "language_info": {
   "codemirror_mode": {
    "name": "ipython",
    "version": 3
   },
   "file_extension": ".py",
   "mimetype": "text/x-python",
   "name": "python",
   "nbconvert_exporter": "python",
   "pygments_lexer": "ipython3",
   "version": "3.8.8"
  }
 },
 "nbformat": 4,
 "nbformat_minor": 5
}
